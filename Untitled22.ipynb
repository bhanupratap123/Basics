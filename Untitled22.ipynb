{
  "nbformat": 4,
  "nbformat_minor": 0,
  "metadata": {
    "colab": {
      "name": "Untitled22.ipynb",
      "version": "0.3.2",
      "provenance": [],
      "include_colab_link": true
    },
    "kernelspec": {
      "name": "python3",
      "display_name": "Python 3"
    }
  },
  "cells": [
    {
      "cell_type": "markdown",
      "metadata": {
        "id": "view-in-github",
        "colab_type": "text"
      },
      "source": [
        "<a href=\"https://colab.research.google.com/github/bhanupratap123/Basics/blob/master/Untitled22.ipynb\" target=\"_parent\"><img src=\"https://colab.research.google.com/assets/colab-badge.svg\" alt=\"Open In Colab\"/></a>"
      ]
    },
    {
      "cell_type": "markdown",
      "metadata": {
        "id": "e5evPwjEYAaf",
        "colab_type": "text"
      },
      "source": [
        "###Regular Expression :-If we want want to represent a group of String then we should go for RE declarative \n",
        "\n",
        "Main important application Areas:-\n",
        "1- Pattern Matching application \n",
        "2- Valdiation FrameWork\n",
        "3- Translator like Compiler,iterpreter etc.\n",
        "4 - Communication Protocol"
      ]
    },
    {
      "cell_type": "code",
      "metadata": {
        "id": "GnvjI_fGX-k_",
        "colab_type": "code",
        "colab": {
          "base_uri": "https://localhost:8080/",
          "height": 85
        },
        "outputId": "ffcb57b8-e099-44e9-b009-bbfedf7abfd2"
      },
      "source": [
        "import re\n",
        "count = 0\n",
        "pattern = re.compile('ab')\n",
        "matcher = pattern.finditer('abaababa')\n",
        "for match in matcher:\n",
        "  count += 1\n",
        "  print(\"Match is available at start index of:\",match.start())\n",
        "print('Number of occurrences:',count)"
      ],
      "execution_count": 4,
      "outputs": [
        {
          "output_type": "stream",
          "text": [
            "Match is available at start index of: 0\n",
            "Match is available at start index of: 3\n",
            "Match is available at start index of: 5\n",
            "Number of occurrences: 3\n"
          ],
          "name": "stdout"
        }
      ]
    },
    {
      "cell_type": "code",
      "metadata": {
        "id": "BScIH8VvZOKY",
        "colab_type": "code",
        "colab": {
          "base_uri": "https://localhost:8080/",
          "height": 85
        },
        "outputId": "b86beae3-3b87-43e9-e31c-5fd67ea9fa72"
      },
      "source": [
        "#Similarly\n",
        "count = 0 \n",
        "pattern = re.compile('ba')\n",
        "matcher = pattern.finditer('abaababa')\n",
        "for match in matcher:\n",
        "  count +=1\n",
        "  print('Match is available at start index of :',match.start())\n",
        "print('count the number of occurrence:',count)"
      ],
      "execution_count": 5,
      "outputs": [
        {
          "output_type": "stream",
          "text": [
            "Match is available at start index of : 1\n",
            "Match is available at start index of : 4\n",
            "Match is available at start index of : 6\n",
            "count the number of occurrence: 3\n"
          ],
          "name": "stdout"
        }
      ]
    },
    {
      "cell_type": "code",
      "metadata": {
        "id": "GrxbnQaTbgcy",
        "colab_type": "code",
        "colab": {
          "base_uri": "https://localhost:8080/",
          "height": 85
        },
        "outputId": "1c43d8eb-de17-4064-af3f-914ef22b2b3e"
      },
      "source": [
        "#Use of start , end , group \n",
        "count = 0\n",
        "pattern = re.compile('ab')\n",
        "matcher = pattern.finditer('abaababa')\n",
        "for match in matcher:\n",
        "  count += 1\n",
        "  print('Start value{},end value{},group by {}'.format(match.start(),match.end(),match.group()))\n",
        "print('Number of Occurrence:',count)"
      ],
      "execution_count": 10,
      "outputs": [
        {
          "output_type": "stream",
          "text": [
            "Start value0,end value2,group by ab\n",
            "Start value3,end value5,group by ab\n",
            "Start value5,end value7,group by ab\n",
            "Number of Occurrence: 3\n"
          ],
          "name": "stdout"
        }
      ]
    },
    {
      "cell_type": "code",
      "metadata": {
        "id": "sK_Lo9tZdLVB",
        "colab_type": "code",
        "colab": {
          "base_uri": "https://localhost:8080/",
          "height": 204
        },
        "outputId": "56998d6d-3a16-418a-fe30-5679a891457b"
      },
      "source": [
        "pattern = re.compile('[^xyz]')\n",
        "matcher = pattern.finditer('sxaysj@fjs.zoh')\n",
        "for match in matcher:\n",
        "  \n",
        "  print(match.start(),'.....',match.group())\n"
      ],
      "execution_count": 13,
      "outputs": [
        {
          "output_type": "stream",
          "text": [
            "0 ..... s\n",
            "2 ..... a\n",
            "4 ..... s\n",
            "5 ..... j\n",
            "6 ..... @\n",
            "7 ..... f\n",
            "8 ..... j\n",
            "9 ..... s\n",
            "10 ..... .\n",
            "12 ..... o\n",
            "13 ..... h\n"
          ],
          "name": "stdout"
        }
      ]
    },
    {
      "cell_type": "code",
      "metadata": {
        "id": "NyJEKOLQqRpU",
        "colab_type": "code",
        "colab": {
          "base_uri": "https://localhost:8080/",
          "height": 68
        },
        "outputId": "5b2e899a-3e87-4148-8e69-55acaf7cb061"
      },
      "source": [
        "#This will check at the Starting of the String\n",
        "string = 'My name is Bhanu.I am a Data Scientist'\n",
        "s = input(\"Enter pattern to check:\")\n",
        "m = re.match(s,string)\n",
        "if m  != None:\n",
        "  print('Match index is available at the Start of the index')\n",
        "  print('Start Index:{} and end index:{}'.format(m.start(),m.end()))\n",
        "else:\n",
        "  print('Match is not there at the beginning of the index')"
      ],
      "execution_count": 17,
      "outputs": [
        {
          "output_type": "stream",
          "text": [
            "Enter pattern to check:My\n",
            "Match index is available at the Start of the index\n",
            "Start Index:0 and end index:2\n"
          ],
          "name": "stdout"
        }
      ]
    },
    {
      "cell_type": "code",
      "metadata": {
        "id": "tEuf3KRiAss4",
        "colab_type": "code",
        "colab": {}
      },
      "source": [
        "#This will check at the Starting of the String\n",
        "string = 'My name is Bhanu.I am a Data Scientist'\n",
        "s = input(\"Enter pattern to check:\")\n",
        "m = re.fullmatch(s,string)\n",
        "if m  != None:\n",
        "  print('Match index is available at the Start of the index')\n",
        "  print('Start Index:{} and end index:{}'.format(m.start(),m.end()))\n",
        "else:\n",
        "  print('Match is not there at the beginning of the index')"
      ],
      "execution_count": 0,
      "outputs": []
    },
    {
      "cell_type": "code",
      "metadata": {
        "id": "UbrHpEPKFatX",
        "colab_type": "code",
        "colab": {}
      },
      "source": [
        ""
      ],
      "execution_count": 0,
      "outputs": []
    }
  ]
}