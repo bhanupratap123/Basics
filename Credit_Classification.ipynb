{
  "nbformat": 4,
  "nbformat_minor": 0,
  "metadata": {
    "colab": {
      "name": "Capstone Project",
      "version": "0.3.2",
      "provenance": [],
      "collapsed_sections": [],
      "include_colab_link": true
    },
    "kernelspec": {
      "name": "python3",
      "display_name": "Python 3"
    }
  },
  "cells": [
    {
      "cell_type": "markdown",
      "metadata": {
        "id": "view-in-github",
        "colab_type": "text"
      },
      "source": [
        "<a href=\"https://colab.research.google.com/github/bhanupratap123/Basics/blob/master/Credit_Classification.ipynb\" target=\"_parent\"><img src=\"https://colab.research.google.com/assets/colab-badge.svg\" alt=\"Open In Colab\"/></a>"
      ]
    },
    {
      "cell_type": "code",
      "metadata": {
        "id": "thxBwOd50ena",
        "colab_type": "code",
        "outputId": "c5a1a2c2-33d6-40ee-cd54-ec8700c50102",
        "colab": {
          "resources": {
            "http://localhost:8080/nbextensions/google.colab/files.js": {
              "data": "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",
              "ok": true,
              "headers": [
                [
                  "content-type",
                  "application/javascript"
                ]
              ],
              "status": 200,
              "status_text": ""
            }
          },
          "base_uri": "https://localhost:8080/",
          "height": 74
        }
      },
      "source": [
        "from google.colab import files\n",
        "upload = files.upload()"
      ],
      "execution_count": 3,
      "outputs": [
        {
          "output_type": "display_data",
          "data": {
            "text/html": [
              "\n",
              "     <input type=\"file\" id=\"files-f6d44289-9e3d-4bcf-9cba-cd5d70a5ded7\" name=\"files[]\" multiple disabled />\n",
              "     <output id=\"result-f6d44289-9e3d-4bcf-9cba-cd5d70a5ded7\">\n",
              "      Upload widget is only available when the cell has been executed in the\n",
              "      current browser session. Please rerun this cell to enable.\n",
              "      </output>\n",
              "      <script src=\"/nbextensions/google.colab/files.js\"></script> "
            ],
            "text/plain": [
              "<IPython.core.display.HTML object>"
            ]
          },
          "metadata": {
            "tags": []
          }
        },
        {
          "output_type": "stream",
          "text": [
            "Saving Demographic data.csv to Demographic data (1).csv\n"
          ],
          "name": "stdout"
        }
      ]
    },
    {
      "cell_type": "code",
      "metadata": {
        "id": "0mU4tgN8RtQo",
        "colab_type": "code",
        "outputId": "d009a970-7daa-438d-e3ea-edb0ab6578d5",
        "colab": {
          "resources": {
            "http://localhost:8080/nbextensions/google.colab/files.js": {
              "data": "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",
              "ok": true,
              "headers": [
                [
                  "content-type",
                  "application/javascript"
                ]
              ],
              "status": 200,
              "status_text": ""
            }
          },
          "base_uri": "https://localhost:8080/",
          "height": 74
        }
      },
      "source": [
        "from google.colab import files\n",
        "uploaded = files.upload()"
      ],
      "execution_count": 6,
      "outputs": [
        {
          "output_type": "display_data",
          "data": {
            "text/html": [
              "\n",
              "     <input type=\"file\" id=\"files-62bf5dd2-85b3-4c83-af2d-bb104b9ded17\" name=\"files[]\" multiple disabled />\n",
              "     <output id=\"result-62bf5dd2-85b3-4c83-af2d-bb104b9ded17\">\n",
              "      Upload widget is only available when the cell has been executed in the\n",
              "      current browser session. Please rerun this cell to enable.\n",
              "      </output>\n",
              "      <script src=\"/nbextensions/google.colab/files.js\"></script> "
            ],
            "text/plain": [
              "<IPython.core.display.HTML object>"
            ]
          },
          "metadata": {
            "tags": []
          }
        },
        {
          "output_type": "stream",
          "text": [
            "Saving Credit Bureau data.csv to Credit Bureau data (1).csv\n"
          ],
          "name": "stdout"
        }
      ]
    },
    {
      "cell_type": "code",
      "metadata": {
        "id": "oJodFKl-l6O5",
        "colab_type": "code",
        "colab": {}
      },
      "source": [
        "import io \n",
        "df1 = pd.read_csv(io.BytesIO(upload['Demographic data.csv']))"
      ],
      "execution_count": 0,
      "outputs": []
    },
    {
      "cell_type": "code",
      "metadata": {
        "id": "2cE7uKVO005J",
        "colab_type": "code",
        "colab": {}
      },
      "source": [
        "df2 = pd.read_csv(io.BytesIO(uploaded['Credit Bureau data.csv']))"
      ],
      "execution_count": 0,
      "outputs": []
    },
    {
      "cell_type": "code",
      "metadata": {
        "id": "zBpCLlynntLz",
        "colab_type": "code",
        "colab": {}
      },
      "source": [
        "#Libraries for \n",
        "import pandas as pd   #for DataFrame and Manipulation\n",
        "import numpy as np      #for Linear Algebra\n",
        "\n",
        "#for Visualisation\n",
        "import matplotlib.pyplot as plt \n",
        "%matplotlib inline\n",
        "plt.rcParams['figure.figsize'] = (10.0, 8.0)\n",
        "import seaborn as sns\n",
        "from scipy import stats\n",
        "\n",
        "#for Imbalanced dataset SMOTE\n",
        "from imblearn.over_sampling import SMOTE\n",
        "\n",
        "#for Accuracy Valiadation\n",
        "\n",
        "#for splitting the data into trainning and test set\n",
        "from sklearn.model_selection import train_test_split\n",
        "from sklearn.preprocessing import StandardScaler\n",
        "\n",
        "#Classifier Libraries\n",
        "from sklearn.linear_model import LogisticRegression\n",
        "from sklearn.svm import SVC\n",
        "from sklearn.neighbors import KNeighborsClassifier\n",
        "from sklearn.tree import DecisionTreeClassifier\n",
        "from sklearn.ensemble import RandomForestClassifier\n",
        "\n",
        "\n",
        "#for model accuracy check\n",
        "from sklearn.metrics import precision_score, recall_score, f1_score, roc_auc_score, accuracy_score, classification_report\n",
        "from sklearn.metrics import confusion_matrix\n",
        "\n",
        "#for Shuffling the Data\n",
        "from sklearn.model_selection import KFold, StratifiedKFold\n",
        "from sklearn.model_selection import GridSearchCV\n",
        "\n",
        "import itertools\n",
        "\n",
        "from sklearn.metrics import roc_curve\n",
        "from sklearn.metrics import auc\n",
        "\n"
      ],
      "execution_count": 0,
      "outputs": []
    },
    {
      "cell_type": "markdown",
      "metadata": {
        "id": "LoMpcwdG2pBx",
        "colab_type": "text"
      },
      "source": [
        "##Data Understanding:\n",
        "In this task, you examine the data more closely. For each variable, you look at the range of values and their distributions. You’ll use simple data manipulation and basic statistical techniques for further checks into the data. Data exploration supports several purposes:\n",
        "\n",
        "Get familiar with the data.\n",
        "\n",
        "Spot signs of data quality problems.\n",
        "\n",
        "Set the stage for data preparation steps.\n"
      ]
    },
    {
      "cell_type": "code",
      "metadata": {
        "id": "o0NBHZJOmvUS",
        "colab_type": "code",
        "outputId": "42a4d70b-bfdd-495c-e348-8679d0b15bdd",
        "colab": {
          "base_uri": "https://localhost:8080/",
          "height": 68
        }
      },
      "source": [
        "print(\"There is {} rows and {} columns\".format(df2.shape[0],df2.shape[1]))\n",
        "print('=========================================')\n",
        "print(\"There is {} rows and {} columns\".format(df2.shape[0],df2.shape[1]))\n"
      ],
      "execution_count": 9,
      "outputs": [
        {
          "output_type": "stream",
          "text": [
            "There is 71295 rows and 19 columns\n",
            "=========================================\n",
            "There is 71295 rows and 19 columns\n"
          ],
          "name": "stdout"
        }
      ]
    },
    {
      "cell_type": "code",
      "metadata": {
        "id": "9OmnUAeJ2Qln",
        "colab_type": "code",
        "outputId": "95edb27f-3c87-4962-bf29-3e0fb65ef9f4",
        "colab": {
          "base_uri": "https://localhost:8080/",
          "height": 408
        }
      },
      "source": [
        "print(df1.columns)\n",
        "print('=====================')\n",
        "print(df2.columns)"
      ],
      "execution_count": 10,
      "outputs": [
        {
          "output_type": "stream",
          "text": [
            "Index(['Application ID', 'Age', 'Gender',\n",
            "       'Marital Status (at the time of application)', 'No of dependents',\n",
            "       'Income', 'Education', 'Profession ', 'Type of residence',\n",
            "       'No of months in current residence', 'No of months in current company',\n",
            "       'Performance Tag'],\n",
            "      dtype='object')\n",
            "=====================\n",
            "Index(['Application ID', 'No of times 90 DPD or worse in last 6 months',\n",
            "       'No of times 60 DPD or worse in last 6 months',\n",
            "       'No of times 30 DPD or worse in last 6 months',\n",
            "       'No of times 90 DPD or worse in last 12 months',\n",
            "       'No of times 60 DPD or worse in last 12 months',\n",
            "       'No of times 30 DPD or worse in last 12 months',\n",
            "       'Avgas CC Utilization in last 12 months',\n",
            "       'No of trades opened in last 6 months',\n",
            "       'No of trades opened in last 12 months',\n",
            "       'No of PL trades opened in last 6 months',\n",
            "       'No of PL trades opened in last 12 months',\n",
            "       'No of Inquiries in last 6 months (excluding home & auto loans)',\n",
            "       'No of Inquiries in last 12 months (excluding home & auto loans)',\n",
            "       'Presence of open home loan', 'Outstanding Balance',\n",
            "       'Total No of Trades', 'Presence of open auto loan', 'Performance Tag'],\n",
            "      dtype='object')\n"
          ],
          "name": "stdout"
        }
      ]
    },
    {
      "cell_type": "code",
      "metadata": {
        "id": "4Xf3q5k-30SI",
        "colab_type": "code",
        "outputId": "54cd48de-525e-42e4-a911-a9613af2cb90",
        "colab": {
          "base_uri": "https://localhost:8080/",
          "height": 102
        }
      },
      "source": [
        "#Check the missing Values in the Performance Tag in both the Data set\n",
        "print(\"Missing Values in Demographic Data\")\n",
        "print(df1['Performance Tag'].isnull().sum())\n",
        "\n",
        "print('=================')\n",
        "\n",
        "print(\"Missing Values in Credit Bureau Data\")\n",
        "print(df2['Performance Tag'].isnull().sum())\n"
      ],
      "execution_count": 11,
      "outputs": [
        {
          "output_type": "stream",
          "text": [
            "Missing Values in Demographic Data\n",
            "1425\n",
            "=================\n",
            "Missing Values in Credit Bureau Data\n",
            "1425\n"
          ],
          "name": "stdout"
        }
      ]
    },
    {
      "cell_type": "markdown",
      "metadata": {
        "id": "oT5470Lx59XG",
        "colab_type": "text"
      },
      "source": [
        "###It seems that both the data set can be merged and they both having the equal number of missing value in Performace Tag.\n",
        "\n"
      ]
    },
    {
      "cell_type": "code",
      "metadata": {
        "id": "R2Zl2eTd5CHZ",
        "colab_type": "code",
        "colab": {}
      },
      "source": [
        "Data = pd.merge(df1,df2,on ='Application ID' )"
      ],
      "execution_count": 0,
      "outputs": []
    },
    {
      "cell_type": "code",
      "metadata": {
        "id": "n1DgOmao6RyE",
        "colab_type": "code",
        "outputId": "7b578e43-68c8-4012-dd8f-7d90ff14ede8",
        "colab": {
          "base_uri": "https://localhost:8080/",
          "height": 374
        }
      },
      "source": [
        "Data.columns"
      ],
      "execution_count": 13,
      "outputs": [
        {
          "output_type": "execute_result",
          "data": {
            "text/plain": [
              "Index(['Application ID', 'Age', 'Gender',\n",
              "       'Marital Status (at the time of application)', 'No of dependents',\n",
              "       'Income', 'Education', 'Profession ', 'Type of residence',\n",
              "       'No of months in current residence', 'No of months in current company',\n",
              "       'Performance Tag_x', 'No of times 90 DPD or worse in last 6 months',\n",
              "       'No of times 60 DPD or worse in last 6 months',\n",
              "       'No of times 30 DPD or worse in last 6 months',\n",
              "       'No of times 90 DPD or worse in last 12 months',\n",
              "       'No of times 60 DPD or worse in last 12 months',\n",
              "       'No of times 30 DPD or worse in last 12 months',\n",
              "       'Avgas CC Utilization in last 12 months',\n",
              "       'No of trades opened in last 6 months',\n",
              "       'No of trades opened in last 12 months',\n",
              "       'No of PL trades opened in last 6 months',\n",
              "       'No of PL trades opened in last 12 months',\n",
              "       'No of Inquiries in last 6 months (excluding home & auto loans)',\n",
              "       'No of Inquiries in last 12 months (excluding home & auto loans)',\n",
              "       'Presence of open home loan', 'Outstanding Balance',\n",
              "       'Total No of Trades', 'Presence of open auto loan',\n",
              "       'Performance Tag_y'],\n",
              "      dtype='object')"
            ]
          },
          "metadata": {
            "tags": []
          },
          "execution_count": 13
        }
      ]
    },
    {
      "cell_type": "code",
      "metadata": {
        "id": "bJgFs5hW7ACj",
        "colab_type": "code",
        "colab": {}
      },
      "source": [
        "#it seems to have two performance Tag columns,delete one\n",
        "Data = Data.drop(['Performance Tag_x'],axis = 1)"
      ],
      "execution_count": 0,
      "outputs": []
    },
    {
      "cell_type": "code",
      "metadata": {
        "id": "PM2wBCWS76ZY",
        "colab_type": "code",
        "outputId": "87027fd7-be6d-4f0f-cbb9-8571ac561dcc",
        "colab": {
          "base_uri": "https://localhost:8080/",
          "height": 374
        }
      },
      "source": [
        "Data.columns"
      ],
      "execution_count": 15,
      "outputs": [
        {
          "output_type": "execute_result",
          "data": {
            "text/plain": [
              "Index(['Application ID', 'Age', 'Gender',\n",
              "       'Marital Status (at the time of application)', 'No of dependents',\n",
              "       'Income', 'Education', 'Profession ', 'Type of residence',\n",
              "       'No of months in current residence', 'No of months in current company',\n",
              "       'No of times 90 DPD or worse in last 6 months',\n",
              "       'No of times 60 DPD or worse in last 6 months',\n",
              "       'No of times 30 DPD or worse in last 6 months',\n",
              "       'No of times 90 DPD or worse in last 12 months',\n",
              "       'No of times 60 DPD or worse in last 12 months',\n",
              "       'No of times 30 DPD or worse in last 12 months',\n",
              "       'Avgas CC Utilization in last 12 months',\n",
              "       'No of trades opened in last 6 months',\n",
              "       'No of trades opened in last 12 months',\n",
              "       'No of PL trades opened in last 6 months',\n",
              "       'No of PL trades opened in last 12 months',\n",
              "       'No of Inquiries in last 6 months (excluding home & auto loans)',\n",
              "       'No of Inquiries in last 12 months (excluding home & auto loans)',\n",
              "       'Presence of open home loan', 'Outstanding Balance',\n",
              "       'Total No of Trades', 'Presence of open auto loan',\n",
              "       'Performance Tag_y'],\n",
              "      dtype='object')"
            ]
          },
          "metadata": {
            "tags": []
          },
          "execution_count": 15
        }
      ]
    },
    {
      "cell_type": "markdown",
      "metadata": {
        "id": "BiPT5E358CAq",
        "colab_type": "text"
      },
      "source": [
        "Missing Value:\n",
        "Check the  missing values in the all columns"
      ]
    },
    {
      "cell_type": "code",
      "metadata": {
        "id": "IecK2clAm6-x",
        "colab_type": "code",
        "colab": {}
      },
      "source": [
        "#find the missing values\n",
        "Data.columns[Data.isnull().any()]"
      ],
      "execution_count": 0,
      "outputs": []
    },
    {
      "cell_type": "code",
      "metadata": {
        "id": "Lm4SXzFSoR5d",
        "colab_type": "code",
        "outputId": "62dd79d1-01b6-46f5-9a87-24f1b38fe9f4",
        "colab": {
          "base_uri": "https://localhost:8080/",
          "height": 221
        }
      },
      "source": [
        "#missing value counts in each of these columns\n",
        "miss_data = Data.isnull().sum()/len(Data)\n",
        "miss_data = miss_data[miss_data > 0]\n",
        "miss_data.sort_values(inplace=True)\n",
        "miss_data\n"
      ],
      "execution_count": 16,
      "outputs": [
        {
          "output_type": "execute_result",
          "data": {
            "text/plain": [
              "No of trades opened in last 6 months           0.000014\n",
              "Gender                                         0.000028\n",
              "No of dependents                               0.000042\n",
              "Marital Status (at the time of application)    0.000084\n",
              "Type of residence                              0.000112\n",
              "Profession                                     0.000196\n",
              "Education                                      0.001669\n",
              "Presence of open home loan                     0.003815\n",
              "Outstanding Balance                            0.003815\n",
              "Avgas CC Utilization in last 12 months         0.014839\n",
              "Performance Tag_y                              0.019986\n",
              "dtype: float64"
            ]
          },
          "metadata": {
            "tags": []
          },
          "execution_count": 16
        }
      ]
    },
    {
      "cell_type": "code",
      "metadata": {
        "id": "XdSiaTf6o5I8",
        "colab_type": "code",
        "outputId": "547782cc-f104-4f27-d3e6-fe8bf014aad1",
        "colab": {
          "base_uri": "https://localhost:8080/",
          "height": 908
        }
      },
      "source": [
        "#visualising missing values\n",
        "miss_data = miss_data.to_frame()\n",
        "miss_data.columns = ['count']\n",
        "miss_data.index.names = ['Name']\n",
        "miss_data['Name'] = miss_data.index\n",
        "\n",
        "#plot the missing value count\n",
        "sns.set(style=\"whitegrid\", color_codes=True)\n",
        "sns.barplot(x = 'Name', y = 'count', data=miss_data)\n",
        "plt.xticks(rotation = 90)\n",
        "sns.show()"
      ],
      "execution_count": 17,
      "outputs": [
        {
          "output_type": "error",
          "ename": "AttributeError",
          "evalue": "ignored",
          "traceback": [
            "\u001b[0;31m---------------------------------------------------------------------------\u001b[0m",
            "\u001b[0;31mAttributeError\u001b[0m                            Traceback (most recent call last)",
            "\u001b[0;32m<ipython-input-17-6289667eb59c>\u001b[0m in \u001b[0;36m<module>\u001b[0;34m()\u001b[0m\n\u001b[1;32m      8\u001b[0m \u001b[0msns\u001b[0m\u001b[0;34m.\u001b[0m\u001b[0mbarplot\u001b[0m\u001b[0;34m(\u001b[0m\u001b[0mx\u001b[0m \u001b[0;34m=\u001b[0m \u001b[0;34m'Name'\u001b[0m\u001b[0;34m,\u001b[0m \u001b[0my\u001b[0m \u001b[0;34m=\u001b[0m \u001b[0;34m'count'\u001b[0m\u001b[0;34m,\u001b[0m \u001b[0mdata\u001b[0m\u001b[0;34m=\u001b[0m\u001b[0mmiss_data\u001b[0m\u001b[0;34m)\u001b[0m\u001b[0;34m\u001b[0m\u001b[0;34m\u001b[0m\u001b[0m\n\u001b[1;32m      9\u001b[0m \u001b[0mplt\u001b[0m\u001b[0;34m.\u001b[0m\u001b[0mxticks\u001b[0m\u001b[0;34m(\u001b[0m\u001b[0mrotation\u001b[0m \u001b[0;34m=\u001b[0m \u001b[0;36m90\u001b[0m\u001b[0;34m)\u001b[0m\u001b[0;34m\u001b[0m\u001b[0;34m\u001b[0m\u001b[0m\n\u001b[0;32m---> 10\u001b[0;31m \u001b[0msns\u001b[0m\u001b[0;34m.\u001b[0m\u001b[0mshow\u001b[0m\u001b[0;34m(\u001b[0m\u001b[0;34m)\u001b[0m\u001b[0;34m\u001b[0m\u001b[0;34m\u001b[0m\u001b[0m\n\u001b[0m",
            "\u001b[0;31mAttributeError\u001b[0m: module 'seaborn' has no attribute 'show'"
          ]
        },
        {
          "output_type": "display_data",
          "data": {
            "image/png": "[encoded data removed]",
            "text/plain": [
              "<Figure size 720x576 with 1 Axes>"
            ]
          },
          "metadata": {
            "tags": []
          }
        }
      ]
    },
    {
      "cell_type": "code",
      "metadata": {
        "id": "TfzTH4GmqEjW",
        "colab_type": "code",
        "outputId": "710b961d-28a5-4dd1-e9ce-284d72d74787",
        "colab": {
          "base_uri": "https://localhost:8080/",
          "height": 102
        }
      },
      "source": [
        "\n",
        "print(Data['Performance Tag_y'].unique())\n",
        "print('==============')\n",
        "print(Data['Performance Tag_y'].value_counts())\n"
      ],
      "execution_count": 18,
      "outputs": [
        {
          "output_type": "stream",
          "text": [
            "[ 0.  1. nan]\n",
            "==============\n",
            "0.0    66927\n",
            "1.0     2949\n",
            "Name: Performance Tag_y, dtype: int64\n"
          ],
          "name": "stdout"
        }
      ]
    },
    {
      "cell_type": "code",
      "metadata": {
        "id": "axdWVfcYrYf_",
        "colab_type": "code",
        "colab": {}
      },
      "source": [
        "#Extracting All Null value in Performance Tag to anaother df\n",
        "Evaluation_Data=Data[Data['Performance Tag_y'].isnull() == True]\n",
        "#All Not null values for Training \n",
        "Training_Data=Data[Data['Performance Tag_y'].isnull() == False]\n"
      ],
      "execution_count": 0,
      "outputs": []
    },
    {
      "cell_type": "code",
      "metadata": {
        "id": "KBfQXsMBsGT_",
        "colab_type": "code",
        "outputId": "4c325b7a-6960-4910-9d33-814f37a17e5c",
        "colab": {
          "base_uri": "https://localhost:8080/",
          "height": 102
        }
      },
      "source": [
        "print(Data.shape)\n",
        "print(\"==============\")\n",
        "print(Evaluation_Data.shape)\n",
        "print('===============')\n",
        "print(Training_Data.shape)"
      ],
      "execution_count": 20,
      "outputs": [
        {
          "output_type": "stream",
          "text": [
            "(71301, 29)\n",
            "==============\n",
            "(1425, 29)\n",
            "===============\n",
            "(69876, 29)\n"
          ],
          "name": "stdout"
        }
      ]
    },
    {
      "cell_type": "code",
      "metadata": {
        "id": "fQHMRNe5sm_f",
        "colab_type": "code",
        "outputId": "fe4acc8d-251c-4921-a566-2591e6754bac",
        "colab": {
          "base_uri": "https://localhost:8080/",
          "height": 360
        }
      },
      "source": [
        "Training_Data.head()"
      ],
      "execution_count": 21,
      "outputs": [
        {
          "output_type": "execute_result",
          "data": {
            "text/html": [
              "<div>\n",
              "<style scoped>\n",
              "    .dataframe tbody tr th:only-of-type {\n",
              "        vertical-align: middle;\n",
              "    }\n",
              "\n",
              "    .dataframe tbody tr th {\n",
              "        vertical-align: top;\n",
              "    }\n",
              "\n",
              "    .dataframe thead th {\n",
              "        text-align: right;\n",
              "    }\n",
              "</style>\n",
              "<table border=\"1\" class=\"dataframe\">\n",
              "  <thead>\n",
              "    <tr style=\"text-align: right;\">\n",
              "      <th></th>\n",
              "      <th>Application ID</th>\n",
              "      <th>Age</th>\n",
              "      <th>Gender</th>\n",
              "      <th>Marital Status (at the time of application)</th>\n",
              "      <th>No of dependents</th>\n",
              "      <th>Income</th>\n",
              "      <th>Education</th>\n",
              "      <th>Profession</th>\n",
              "      <th>Type of residence</th>\n",
              "      <th>No of months in current residence</th>\n",
              "      <th>No of months in current company</th>\n",
              "      <th>No of times 90 DPD or worse in last 6 months</th>\n",
              "      <th>No of times 60 DPD or worse in last 6 months</th>\n",
              "      <th>No of times 30 DPD or worse in last 6 months</th>\n",
              "      <th>No of times 90 DPD or worse in last 12 months</th>\n",
              "      <th>No of times 60 DPD or worse in last 12 months</th>\n",
              "      <th>No of times 30 DPD or worse in last 12 months</th>\n",
              "      <th>Avgas CC Utilization in last 12 months</th>\n",
              "      <th>No of trades opened in last 6 months</th>\n",
              "      <th>No of trades opened in last 12 months</th>\n",
              "      <th>No of PL trades opened in last 6 months</th>\n",
              "      <th>No of PL trades opened in last 12 months</th>\n",
              "      <th>No of Inquiries in last 6 months (excluding home &amp; auto loans)</th>\n",
              "      <th>No of Inquiries in last 12 months (excluding home &amp; auto loans)</th>\n",
              "      <th>Presence of open home loan</th>\n",
              "      <th>Outstanding Balance</th>\n",
              "      <th>Total No of Trades</th>\n",
              "      <th>Presence of open auto loan</th>\n",
              "      <th>Performance Tag_y</th>\n",
              "    </tr>\n",
              "  </thead>\n",
              "  <tbody>\n",
              "    <tr>\n",
              "      <th>0</th>\n",
              "      <td>954457215</td>\n",
              "      <td>48</td>\n",
              "      <td>F</td>\n",
              "      <td>Married</td>\n",
              "      <td>2.0</td>\n",
              "      <td>40.0</td>\n",
              "      <td>Bachelor</td>\n",
              "      <td>SAL</td>\n",
              "      <td>Rented</td>\n",
              "      <td>113</td>\n",
              "      <td>56</td>\n",
              "      <td>0</td>\n",
              "      <td>0</td>\n",
              "      <td>0</td>\n",
              "      <td>0</td>\n",
              "      <td>0</td>\n",
              "      <td>0</td>\n",
              "      <td>4.0</td>\n",
              "      <td>1.0</td>\n",
              "      <td>2</td>\n",
              "      <td>0</td>\n",
              "      <td>0</td>\n",
              "      <td>0</td>\n",
              "      <td>0</td>\n",
              "      <td>1.0</td>\n",
              "      <td>2999395.0</td>\n",
              "      <td>4</td>\n",
              "      <td>0</td>\n",
              "      <td>0.0</td>\n",
              "    </tr>\n",
              "    <tr>\n",
              "      <th>1</th>\n",
              "      <td>432830445</td>\n",
              "      <td>31</td>\n",
              "      <td>M</td>\n",
              "      <td>Married</td>\n",
              "      <td>4.0</td>\n",
              "      <td>55.0</td>\n",
              "      <td>Professional</td>\n",
              "      <td>SE_PROF</td>\n",
              "      <td>Rented</td>\n",
              "      <td>112</td>\n",
              "      <td>46</td>\n",
              "      <td>0</td>\n",
              "      <td>0</td>\n",
              "      <td>0</td>\n",
              "      <td>0</td>\n",
              "      <td>0</td>\n",
              "      <td>0</td>\n",
              "      <td>3.0</td>\n",
              "      <td>1.0</td>\n",
              "      <td>2</td>\n",
              "      <td>0</td>\n",
              "      <td>0</td>\n",
              "      <td>0</td>\n",
              "      <td>0</td>\n",
              "      <td>0.0</td>\n",
              "      <td>3078.0</td>\n",
              "      <td>5</td>\n",
              "      <td>0</td>\n",
              "      <td>0.0</td>\n",
              "    </tr>\n",
              "    <tr>\n",
              "      <th>2</th>\n",
              "      <td>941387308</td>\n",
              "      <td>32</td>\n",
              "      <td>M</td>\n",
              "      <td>Single</td>\n",
              "      <td>2.0</td>\n",
              "      <td>46.0</td>\n",
              "      <td>Bachelor</td>\n",
              "      <td>SE_PROF</td>\n",
              "      <td>Rented</td>\n",
              "      <td>104</td>\n",
              "      <td>49</td>\n",
              "      <td>0</td>\n",
              "      <td>0</td>\n",
              "      <td>0</td>\n",
              "      <td>0</td>\n",
              "      <td>0</td>\n",
              "      <td>0</td>\n",
              "      <td>7.0</td>\n",
              "      <td>0.0</td>\n",
              "      <td>0</td>\n",
              "      <td>0</td>\n",
              "      <td>0</td>\n",
              "      <td>0</td>\n",
              "      <td>0</td>\n",
              "      <td>1.0</td>\n",
              "      <td>3004972.0</td>\n",
              "      <td>2</td>\n",
              "      <td>0</td>\n",
              "      <td>0.0</td>\n",
              "    </tr>\n",
              "    <tr>\n",
              "      <th>3</th>\n",
              "      <td>392161677</td>\n",
              "      <td>43</td>\n",
              "      <td>M</td>\n",
              "      <td>Married</td>\n",
              "      <td>1.0</td>\n",
              "      <td>53.0</td>\n",
              "      <td>Bachelor</td>\n",
              "      <td>SE</td>\n",
              "      <td>Rented</td>\n",
              "      <td>94</td>\n",
              "      <td>53</td>\n",
              "      <td>0</td>\n",
              "      <td>0</td>\n",
              "      <td>0</td>\n",
              "      <td>0</td>\n",
              "      <td>0</td>\n",
              "      <td>0</td>\n",
              "      <td>11.0</td>\n",
              "      <td>1.0</td>\n",
              "      <td>1</td>\n",
              "      <td>0</td>\n",
              "      <td>0</td>\n",
              "      <td>0</td>\n",
              "      <td>0</td>\n",
              "      <td>1.0</td>\n",
              "      <td>3355373.0</td>\n",
              "      <td>4</td>\n",
              "      <td>1</td>\n",
              "      <td>0.0</td>\n",
              "    </tr>\n",
              "    <tr>\n",
              "      <th>4</th>\n",
              "      <td>182011211</td>\n",
              "      <td>35</td>\n",
              "      <td>F</td>\n",
              "      <td>Married</td>\n",
              "      <td>5.0</td>\n",
              "      <td>44.0</td>\n",
              "      <td>Professional</td>\n",
              "      <td>SAL</td>\n",
              "      <td>Rented</td>\n",
              "      <td>112</td>\n",
              "      <td>43</td>\n",
              "      <td>0</td>\n",
              "      <td>0</td>\n",
              "      <td>0</td>\n",
              "      <td>0</td>\n",
              "      <td>0</td>\n",
              "      <td>0</td>\n",
              "      <td>12.0</td>\n",
              "      <td>0.0</td>\n",
              "      <td>1</td>\n",
              "      <td>0</td>\n",
              "      <td>0</td>\n",
              "      <td>0</td>\n",
              "      <td>0</td>\n",
              "      <td>1.0</td>\n",
              "      <td>3014283.0</td>\n",
              "      <td>4</td>\n",
              "      <td>0</td>\n",
              "      <td>0.0</td>\n",
              "    </tr>\n",
              "  </tbody>\n",
              "</table>\n",
              "</div>"
            ],
            "text/plain": [
              "   Application ID  Age  ... Presence of open auto loan Performance Tag_y\n",
              "0       954457215   48  ...                          0               0.0\n",
              "1       432830445   31  ...                          0               0.0\n",
              "2       941387308   32  ...                          0               0.0\n",
              "3       392161677   43  ...                          1               0.0\n",
              "4       182011211   35  ...                          0               0.0\n",
              "\n",
              "[5 rows x 29 columns]"
            ]
          },
          "metadata": {
            "tags": []
          },
          "execution_count": 21
        }
      ]
    },
    {
      "cell_type": "markdown",
      "metadata": {
        "id": "WSFNQKTW02Xk",
        "colab_type": "text"
      },
      "source": [
        "###Data Preprocessing:\n",
        "\n",
        "1 - Dummy Variable for Categorical data\n",
        "2- Feature Scaling "
      ]
    },
    {
      "cell_type": "code",
      "metadata": {
        "id": "uD4UX17-tR5D",
        "colab_type": "code",
        "colab": {}
      },
      "source": [
        "Training_Data = pd.get_dummies(Training_Data,columns = ['Gender','Marital Status (at the time of application)', 'Education','Profession ','Type of residence',\n",
        "                                       'Presence of open home loan','Presence of open auto loan'],drop_first = True)"
      ],
      "execution_count": 0,
      "outputs": []
    },
    {
      "cell_type": "code",
      "metadata": {
        "id": "SU6wuEKA-Xcj",
        "colab_type": "code",
        "colab": {}
      },
      "source": [
        "Training_Data['No of dependents'] =  StandardScaler().fit_transform(Training_Data['No of dependents'].values.reshape(-1, 1))\n",
        "Training_Data['months in current residence'] =  StandardScaler().fit_transform(Training_Data[ 'No of months in current residence'].values.reshape(-1, 1))\n",
        "Training_Data['months in current co'] =StandardScaler().fit_transform(Training_Data['No of months in current company'].values.reshape(-1, 1))\n",
        "Training_Data['No of times 90 DPD or worse in last 6 months'] =  StandardScaler().fit_transform(Training_Data[ 'No of times 90 DPD or worse in last 6 months'].values.reshape(-1, 1))\n",
        "Training_Data['No of times 60 DPD or worse in last 6 months'] =  StandardScaler().fit_transform(Training_Data[ 'No of times 60 DPD or worse in last 6 months'].values.reshape(-1, 1))\n",
        "Training_Data['No of times 30 DPD or worse in last 6 months'] =  StandardScaler().fit_transform(Training_Data[ 'No of times 30 DPD or worse in last 6 months'].values.reshape(-1, 1))\n",
        "Training_Data['No of times 90 DPD or worse in last 12 months'] =  StandardScaler().fit_transform(Training_Data['No of times 90 DPD or worse in last 12 months'].values.reshape(-1, 1))\n",
        "Training_Data['No of times 60 DPD or worse in last 12 months'] =  StandardScaler().fit_transform(Training_Data['No of times 60 DPD or worse in last 12 months'].values.reshape(-1, 1))\n",
        "Training_Data['No of times 30 DPD or worse in last 12 months'] =  StandardScaler().fit_transform(Training_Data['No of times 30 DPD or worse in last 12 months'].values.reshape(-1, 1))\n",
        "Training_Data['Avgas CC Utilization in last 12 months'] =  StandardScaler().fit_transform(Training_Data['Avgas CC Utilization in last 12 months'].values.reshape(-1, 1))\n",
        "Training_Data['No of trades opened in last 6 months'] =  StandardScaler().fit_transform(Training_Data['No of trades opened in last 6 months'].values.reshape(-1, 1))\n",
        "Training_Data['No of trades opened in last 12 months'] =  StandardScaler().fit_transform(Training_Data['No of trades opened in last 12 months'].values.reshape(-1, 1))\n",
        "Training_Data['No of PL trades opened in last 6 months'] =  StandardScaler().fit_transform(Training_Data['No of PL trades opened in last 6 months'].values.reshape(-1, 1))\n",
        "Training_Data['No of Inquiries in last 6 months'] =  StandardScaler().fit_transform(Training_Data['No of Inquiries in last 6 months (excluding home & auto loans)'].values.reshape(-1, 1))\n",
        "Training_Data['No of Inquiries in last 12 months'] =  StandardScaler().fit_transform(Training_Data['No of Inquiries in last 12 months (excluding home & auto loans)'].values.reshape(-1, 1))\n",
        "Training_Data['Outstanding Balance'] =  StandardScaler().fit_transform(Training_Data['Outstanding Balance'].values.reshape(-1, 1))\n",
        "Training_Data['Total No of Trades'] =  StandardScaler().fit_transform(Training_Data['Total No of Trades'].values.reshape(-1, 1))\n",
        "Training_Data['Income'] =  StandardScaler().fit_transform(Training_Data['Income'].values.reshape(-1, 1))\n",
        "Training_Data['Age'] =  StandardScaler().fit_transform(Training_Data['Age'].values.reshape(-1, 1))\n",
        "Training_Data['No of months in current residence'] =  StandardScaler().fit_transform(Training_Data['No of months in current residence'].values.reshape(-1, 1))\n",
        "Training_Data['No of months in current company'] =  StandardScaler().fit_transform(Training_Data['No of months in current company'].values.reshape(-1, 1))\n",
        "\n"
      ],
      "execution_count": 0,
      "outputs": []
    },
    {
      "cell_type": "code",
      "metadata": {
        "id": "_p6Dq5dnWrPC",
        "colab_type": "code",
        "colab": {}
      },
      "source": [
        "Training_Data = Training_Data.drop(columns = ['Application ID'])"
      ],
      "execution_count": 0,
      "outputs": []
    },
    {
      "cell_type": "code",
      "metadata": {
        "id": "TU2wbWP347C_",
        "colab_type": "code",
        "colab": {}
      },
      "source": [
        "Train = np.array(Training_Data.loc[Training_Data.columns =='Performance Tag_y'])"
      ],
      "execution_count": 0,
      "outputs": []
    },
    {
      "cell_type": "code",
      "metadata": {
        "id": "d_uLuOYXXyVC",
        "colab_type": "code",
        "outputId": "688672bd-673b-40b0-fbcf-a7507bcb832c",
        "colab": {
          "base_uri": "https://localhost:8080/",
          "height": 34
        }
      },
      "source": [
        "Training_Data['Performance Tag_y'].shape"
      ],
      "execution_count": 26,
      "outputs": [
        {
          "output_type": "execute_result",
          "data": {
            "text/plain": [
              "(69876,)"
            ]
          },
          "metadata": {
            "tags": []
          },
          "execution_count": 26
        }
      ]
    },
    {
      "cell_type": "code",
      "metadata": {
        "id": "EYv1x0qnZarY",
        "colab_type": "code",
        "colab": {}
      },
      "source": [
        "Training_Data.dropna(axis = 0 , how = 'any',inplace = True)"
      ],
      "execution_count": 0,
      "outputs": []
    },
    {
      "cell_type": "code",
      "metadata": {
        "id": "n0pNdu98xrxn",
        "colab_type": "code",
        "outputId": "a479ac93-3558-4d14-92b3-3d79ece5c3ca",
        "colab": {
          "base_uri": "https://localhost:8080/",
          "height": 459
        }
      },
      "source": [
        "Training_Data.columns"
      ],
      "execution_count": 28,
      "outputs": [
        {
          "output_type": "execute_result",
          "data": {
            "text/plain": [
              "Index(['Age', 'No of dependents', 'Income',\n",
              "       'No of months in current residence', 'No of months in current company',\n",
              "       'No of times 90 DPD or worse in last 6 months',\n",
              "       'No of times 60 DPD or worse in last 6 months',\n",
              "       'No of times 30 DPD or worse in last 6 months',\n",
              "       'No of times 90 DPD or worse in last 12 months',\n",
              "       'No of times 60 DPD or worse in last 12 months',\n",
              "       'No of times 30 DPD or worse in last 12 months',\n",
              "       'Avgas CC Utilization in last 12 months',\n",
              "       'No of trades opened in last 6 months',\n",
              "       'No of trades opened in last 12 months',\n",
              "       'No of PL trades opened in last 6 months',\n",
              "       'No of PL trades opened in last 12 months',\n",
              "       'No of Inquiries in last 6 months (excluding home & auto loans)',\n",
              "       'No of Inquiries in last 12 months (excluding home & auto loans)',\n",
              "       'Outstanding Balance', 'Total No of Trades', 'Performance Tag_y',\n",
              "       'Gender_M', 'Marital Status (at the time of application)_Single',\n",
              "       'Education_Masters', 'Education_Others', 'Education_Phd',\n",
              "       'Education_Professional', 'Profession _SE', 'Profession _SE_PROF',\n",
              "       'Type of residence_Living with Parents', 'Type of residence_Others',\n",
              "       'Type of residence_Owned', 'Type of residence_Rented',\n",
              "       'Presence of open home loan_1.0', 'Presence of open auto loan_1',\n",
              "       'months in current residence', 'months in current co',\n",
              "       'No of Inquiries in last 6 months',\n",
              "       'No of Inquiries in last 12 months'],\n",
              "      dtype='object')"
            ]
          },
          "metadata": {
            "tags": []
          },
          "execution_count": 28
        }
      ]
    },
    {
      "cell_type": "code",
      "metadata": {
        "id": "hsX267VyYEDE",
        "colab_type": "code",
        "colab": {}
      },
      "source": [
        "#Training_Data\n",
        "X = np.array(Training_Data.loc[:,Training_Data.columns != 'Performance Tag_y'])\n",
        "y = np.array(Training_Data.loc[:,Training_Data.columns == 'Performance Tag_y'])"
      ],
      "execution_count": 0,
      "outputs": []
    },
    {
      "cell_type": "code",
      "metadata": {
        "id": "TBjM-fd4YkCq",
        "colab_type": "code",
        "colab": {}
      },
      "source": [
        "#Splitting The data into test and Trainning Set\n",
        "\n",
        "\n",
        "X_train, X_test, y_train, y_test = train_test_split(X, y, test_size=0.3, random_state=0)"
      ],
      "execution_count": 0,
      "outputs": []
    },
    {
      "cell_type": "code",
      "metadata": {
        "id": "Y4R_b3Uil8_u",
        "colab_type": "code",
        "outputId": "a8d31eeb-1cb7-4af0-f7f8-a677ec6adef8",
        "colab": {
          "base_uri": "https://localhost:8080/",
          "height": 85
        }
      },
      "source": [
        "print(\"Number of Transaction X_train\",X_train.shape)\n",
        "print(\"Number of Transaction y_train\",y_train.shape)\n",
        "print(\"Number of Transaction X_train\",X_test.shape)\n",
        "print(\"Number of Transaction y_test\",y_test.shape)"
      ],
      "execution_count": 32,
      "outputs": [
        {
          "output_type": "stream",
          "text": [
            "Number of Transaction X_train (48195, 38)\n",
            "Number of Transaction y_train (48195, 1)\n",
            "Number of Transaction X_train (20655, 38)\n",
            "Number of Transaction y_test (20655, 1)\n"
          ],
          "name": "stdout"
        }
      ]
    },
    {
      "cell_type": "code",
      "metadata": {
        "id": "IyF0XjRcmn2c",
        "colab_type": "code",
        "colab": {}
      },
      "source": [
        "#We will use SMOTE only in the \n",
        "sm = SMOTE(random_state = 2)\n",
        "X_train_sm , y_train_sm = sm.fit_sample(X_train,y_train.ravel())"
      ],
      "execution_count": 0,
      "outputs": []
    },
    {
      "cell_type": "code",
      "metadata": {
        "id": "z6kqef1WXINw",
        "colab_type": "code",
        "outputId": "8bb2ae82-32e6-4ffc-855e-2c0b7360dbba",
        "colab": {
          "base_uri": "https://localhost:8080/",
          "height": 102
        }
      },
      "source": [
        "print('Before Oversampling, count of Label 1 : {}'.format(sum(y_train == 1)))\n",
        "print('Before Oversampling, count of Label 0 : {}'.format(sum(y_train == 0)))\n",
        "print('===================================================')\n",
        "print(\"After Oversampling, count of Label 1 : {}\".format(sum(y_train_sm == 1)))\n",
        "print(\"After Oversaampling, count of Label 0 : {}\".format(sum(y_train_sm == 0)))"
      ],
      "execution_count": 32,
      "outputs": [
        {
          "output_type": "stream",
          "text": [
            "Before Oversampling, count of Label 1 : [2020]\n",
            "Before Oversampling, count of Label 0 : [46175]\n",
            "===================================================\n",
            "After Oversampling, count of Label 1 : 46175\n",
            "After Oversaampling, count of Label 0 : 46175\n"
          ],
          "name": "stdout"
        }
      ]
    },
    {
      "cell_type": "code",
      "metadata": {
        "id": "0ePe9Ey0zrf-",
        "colab_type": "code",
        "colab": {
          "base_uri": "https://localhost:8080/",
          "height": 360
        },
        "outputId": "8d5e6acb-d13e-4234-962e-5dec7127559b"
      },
      "source": [
        "#lets implement the Classifier \n",
        "\n",
        "parameters = {\n",
        "    'C' : np.linspace(1,10,10)\n",
        "             }\n",
        "\n",
        "lr = LogisticRegression()\n",
        "\n",
        "#import Grid Search CV\n",
        "clf = GridSearchCV(lr,parameters,cv = 5,verbose = 5,n_jobs = 3)\n",
        "clf.fit(X_train_sm,y_train_sm.ravel())\n"
      ],
      "execution_count": 34,
      "outputs": [
        {
          "output_type": "stream",
          "text": [
            "Fitting 5 folds for each of 10 candidates, totalling 50 fits\n"
          ],
          "name": "stdout"
        },
        {
          "output_type": "stream",
          "text": [
            "[Parallel(n_jobs=3)]: Using backend LokyBackend with 3 concurrent workers.\n",
            "[Parallel(n_jobs=3)]: Done  12 tasks      | elapsed:   21.7s\n",
            "[Parallel(n_jobs=3)]: Done  50 out of  50 | elapsed:  1.3min finished\n",
            "/usr/local/lib/python3.6/dist-packages/sklearn/linear_model/logistic.py:432: FutureWarning: Default solver will be changed to 'lbfgs' in 0.22. Specify a solver to silence this warning.\n",
            "  FutureWarning)\n"
          ],
          "name": "stderr"
        },
        {
          "output_type": "execute_result",
          "data": {
            "text/plain": [
              "GridSearchCV(cv=5, error_score='raise-deprecating',\n",
              "             estimator=LogisticRegression(C=1.0, class_weight=None, dual=False,\n",
              "                                          fit_intercept=True,\n",
              "                                          intercept_scaling=1, l1_ratio=None,\n",
              "                                          max_iter=100, multi_class='warn',\n",
              "                                          n_jobs=None, penalty='l2',\n",
              "                                          random_state=None, solver='warn',\n",
              "                                          tol=0.0001, verbose=0,\n",
              "                                          warm_start=False),\n",
              "             iid='warn', n_jobs=3,\n",
              "             param_grid={'C': array([ 1.,  2.,  3.,  4.,  5.,  6.,  7.,  8.,  9., 10.])},\n",
              "             pre_dispatch='2*n_jobs', refit=True, return_train_score=False,\n",
              "             scoring=None, verbose=5)"
            ]
          },
          "metadata": {
            "tags": []
          },
          "execution_count": 34
        }
      ]
    },
    {
      "cell_type": "code",
      "metadata": {
        "id": "DTLKc3hv-FLU",
        "colab_type": "code",
        "outputId": "63a9f3dc-e0a6-41c2-86cf-865599705c6e",
        "colab": {
          "base_uri": "https://localhost:8080/",
          "height": 34
        }
      },
      "source": [
        "clf.best_params_"
      ],
      "execution_count": 35,
      "outputs": [
        {
          "output_type": "execute_result",
          "data": {
            "text/plain": [
              "{'C': 6.0}"
            ]
          },
          "metadata": {
            "tags": []
          },
          "execution_count": 35
        }
      ]
    },
    {
      "cell_type": "code",
      "metadata": {
        "id": "MoVIcWhD_TZa",
        "colab_type": "code",
        "outputId": "f7f97bb3-066d-4a6c-da02-9d14b79ce338",
        "colab": {
          "base_uri": "https://localhost:8080/",
          "height": 156
        }
      },
      "source": [
        "lr1 = LogisticRegression(C = 6,penalty = 'l1',verbose = 5)\n",
        "lr1.fit(X_train_sm,y_train_sm.ravel())"
      ],
      "execution_count": 36,
      "outputs": [
        {
          "output_type": "stream",
          "text": [
            "/usr/local/lib/python3.6/dist-packages/sklearn/linear_model/logistic.py:432: FutureWarning: Default solver will be changed to 'lbfgs' in 0.22. Specify a solver to silence this warning.\n",
            "  FutureWarning)\n"
          ],
          "name": "stderr"
        },
        {
          "output_type": "stream",
          "text": [
            "[LibLinear]"
          ],
          "name": "stdout"
        },
        {
          "output_type": "execute_result",
          "data": {
            "text/plain": [
              "LogisticRegression(C=6, class_weight=None, dual=False, fit_intercept=True,\n",
              "                   intercept_scaling=1, l1_ratio=None, max_iter=100,\n",
              "                   multi_class='warn', n_jobs=None, penalty='l1',\n",
              "                   random_state=None, solver='warn', tol=0.0001, verbose=5,\n",
              "                   warm_start=False)"
            ]
          },
          "metadata": {
            "tags": []
          },
          "execution_count": 36
        }
      ]
    },
    {
      "cell_type": "code",
      "metadata": {
        "id": "q9JOcauq_5ya",
        "colab_type": "code",
        "colab": {}
      },
      "source": [
        "def plot_confusion_matrix(cm, classes,\n",
        "                          normalize=False,\n",
        "                          title='Confusion matrix',\n",
        "                          cmap=plt.cm.Blues):\n",
        "    \"\"\"\n",
        "    This function prints and plots the confusion matrix.\n",
        "    Normalization can be applied by setting `normalize=True`.\n",
        "    \"\"\"\n",
        "    plt.imshow(cm, interpolation='nearest', cmap=cmap)\n",
        "    plt.title(title)\n",
        "    plt.colorbar()\n",
        "    tick_marks = np.arange(len(classes))\n",
        "    plt.xticks(tick_marks, classes, rotation=0)\n",
        "    plt.yticks(tick_marks, classes)\n",
        "    if normalize:\n",
        "        cm = cm.astype('float') / cm.sum(axis=1)[:, np.newaxis]\n",
        "        print(\"Normalized confusion matrix\")\n",
        "    else:\n",
        "        print('Confusion matrix, without normalization')\n",
        "\n",
        "    print(cm)\n",
        "\n",
        "    thresh = cm.max() / 2.\n",
        "    for i, j in itertools.product(range(cm.shape[0]), range(cm.shape[1])):\n",
        "        plt.text(j, i, cm[i, j],\n",
        "                 horizontalalignment=\"center\",\n",
        "                 color=\"white\" if cm[i, j] > thresh else \"black\")\n",
        "\n",
        "    plt.tight_layout()\n",
        "    plt.ylabel('True label')\n",
        "    plt.xlabel('Predicted label')"
      ],
      "execution_count": 0,
      "outputs": []
    },
    {
      "cell_type": "code",
      "metadata": {
        "id": "bzRRJMtMwXqw",
        "colab_type": "code",
        "colab": {}
      },
      "source": [
        "y_train_pre = lr1.predict(X_train)\n"
      ],
      "execution_count": 0,
      "outputs": []
    },
    {
      "cell_type": "code",
      "metadata": {
        "id": "EdL1I4JI21Mh",
        "colab_type": "code",
        "colab": {
          "base_uri": "https://localhost:8080/",
          "height": 666
        },
        "outputId": "de8b8f1e-509e-46fb-e9ea-a50589c2dacd"
      },
      "source": [
        "cnf_matrix_tra = confusion_matrix(y_train, y_train_pre)\n",
        "\n",
        "print(\"Recall metric in the train dataset: {}%\".format(100*cnf_matrix_tra[1,1]/(cnf_matrix_tra[1,0]+cnf_matrix_tra[1,1])))\n",
        "\n",
        "\n",
        "class_names = [0,1]\n",
        "plt.figure()\n",
        "plot_confusion_matrix(cnf_matrix_tra , classes=class_names,normalize = False, title='Confusion matrix',)\n",
        "plt.show()"
      ],
      "execution_count": 42,
      "outputs": [
        {
          "output_type": "stream",
          "text": [
            "Recall metric in the train dataset: 65.39603960396039%\n",
            "Confusion matrix, without normalization\n",
            "[[27849 18326]\n",
            " [  699  1321]]\n"
          ],
          "name": "stdout"
        },
        {
          "output_type": "display_data",
          "data": {
            "image/png": "[encoded data removed]",
            "text/plain": [
              "<Figure size 720x576 with 2 Axes>"
            ]
          },
          "metadata": {
            "tags": []
          }
        }
      ]
    },
    {
      "cell_type": "code",
      "metadata": {
        "id": "A9RhsDSa5g3Y",
        "colab_type": "code",
        "colab": {
          "base_uri": "https://localhost:8080/",
          "height": 666
        },
        "outputId": "0ceda31a-799f-4514-8de2-80633ebe3b9b"
      },
      "source": [
        "y_pre = lr1.predict(X_test)\n",
        "\n",
        "cnf_matrix = confusion_matrix(y_test, y_pre)\n",
        "\n",
        "print(\"Recall metric in the testing dataset: {}%\".format(100*cnf_matrix[1,1]/(cnf_matrix[1,0]+cnf_matrix[1,1])))\n",
        "#print(\"Precision metric in the testing dataset: {}%\".format(100*cnf_matrix[0,0]/(cnf_matrix[0,0]+cnf_matrix[1,0])))\n",
        "# Plot non-normalized confusion matrix\n",
        "class_names = [0,1]\n",
        "plt.figure()\n",
        "plot_confusion_matrix(cnf_matrix , classes=class_names, title='Confusion matrix')\n",
        "plt.show()\n"
      ],
      "execution_count": 43,
      "outputs": [
        {
          "output_type": "stream",
          "text": [
            "Recall metric in the testing dataset: 62.65607264472191%\n",
            "Confusion matrix, without normalization\n",
            "[[11908  7866]\n",
            " [  329   552]]\n"
          ],
          "name": "stdout"
        },
        {
          "output_type": "display_data",
          "data": {
            "image/png": "[encoded data removed]",
            "text/plain": [
              "<Figure size 720x576 with 2 Axes>"
            ]
          },
          "metadata": {
            "tags": []
          }
        }
      ]
    },
    {
      "cell_type": "code",
      "metadata": {
        "id": "bR1KyFE35hSi",
        "colab_type": "code",
        "colab": {
          "base_uri": "https://localhost:8080/",
          "height": 88
        },
        "outputId": "1fd002bf-b456-4aa9-8e22-3fbbcae56401"
      },
      "source": [
        "tmp = lr1.fit(X_train_sm, y_train_sm.ravel())\n"
      ],
      "execution_count": 44,
      "outputs": [
        {
          "output_type": "stream",
          "text": [
            "/usr/local/lib/python3.6/dist-packages/sklearn/linear_model/logistic.py:432: FutureWarning: Default solver will be changed to 'lbfgs' in 0.22. Specify a solver to silence this warning.\n",
            "  FutureWarning)\n"
          ],
          "name": "stderr"
        },
        {
          "output_type": "stream",
          "text": [
            "[LibLinear]"
          ],
          "name": "stdout"
        }
      ]
    },
    {
      "cell_type": "code",
      "metadata": {
        "id": "qcXdciRG5htZ",
        "colab_type": "code",
        "colab": {
          "base_uri": "https://localhost:8080/",
          "height": 518
        },
        "outputId": "fede9528-1f2a-49a3-dd11-dfd5fda6a72d"
      },
      "source": [
        "y_pred_sample_score = tmp.decision_function(X_test)\n",
        "\n",
        "\n",
        "fpr, tpr, thresholds = roc_curve(y_test, y_pred_sample_score)\n",
        "\n",
        "roc_auc = auc(fpr,tpr)\n",
        "\n",
        "# Plot ROC\n",
        "plt.title('Receiver Operating Characteristic')\n",
        "plt.plot(fpr, tpr, 'b',label='AUC = %0.3f'% roc_auc)\n",
        "plt.legend(loc='lower right')\n",
        "plt.plot([0,1],[0,1],'r--')\n",
        "plt.xlim([-0.1,1.0])\n",
        "plt.ylim([-0.1,1.01])\n",
        "plt.ylabel('True Positive Rate')\n",
        "plt.xlabel('False Positive Rate')\n",
        "plt.show()"
      ],
      "execution_count": 47,
      "outputs": [
        {
          "output_type": "display_data",
          "data": {
            "image/png": "[encoded data removed]",
            "text/plain": [
              "<Figure size 720x576 with 1 Axes>"
            ]
          },
          "metadata": {
            "tags": []
          }
        }
      ]
    },
    {
      "cell_type": "code",
      "metadata": {
        "id": "2yM7OHk15ifL",
        "colab_type": "code",
        "colab": {
          "base_uri": "https://localhost:8080/",
          "height": 34
        },
        "outputId": "9ac2a756-f2f8-4227-add1-2b0a27d12e82"
      },
      "source": [
        "roc_auc\n"
      ],
      "execution_count": 48,
      "outputs": [
        {
          "output_type": "execute_result",
          "data": {
            "text/plain": [
              "0.651058378519495"
            ]
          },
          "metadata": {
            "tags": []
          },
          "execution_count": 48
        }
      ]
    },
    {
      "cell_type": "code",
      "metadata": {
        "id": "Ew4wKbxD7BTF",
        "colab_type": "code",
        "colab": {}
      },
      "source": [
        ""
      ],
      "execution_count": 0,
      "outputs": []
    }
  ]
}