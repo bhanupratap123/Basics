{
  "nbformat": 4,
  "nbformat_minor": 0,
  "metadata": {
    "colab": {
      "name": "Python",
      "version": "0.3.2",
      "provenance": [],
      "include_colab_link": true
    },
    "kernelspec": {
      "name": "python3",
      "display_name": "Python 3"
    }
  },
  "cells": [
    {
      "cell_type": "markdown",
      "metadata": {
        "id": "view-in-github",
        "colab_type": "text"
      },
      "source": [
        "<a href=\"https://colab.research.google.com/github/bhanupratap123/Basics/blob/master/Python.ipynb\" target=\"_parent\"><img src=\"https://colab.research.google.com/assets/colab-badge.svg\" alt=\"Open In Colab\"/></a>"
      ]
    },
    {
      "cell_type": "code",
      "metadata": {
        "id": "ngQ_3psjdrRv",
        "colab_type": "code",
        "outputId": "4ae34ea6-6f4e-4dfd-93b4-8b5c8417e03f",
        "colab": {
          "base_uri": "https://localhost:8080/",
          "height": 51
        }
      },
      "source": [
        "#Write a Python function that takes a sequence of numbers and determines if all the numbers are different from each other.\n",
        "\n",
        "\n",
        "def is_duplicates(list1):\n",
        "  set1 = set(list1)\n",
        "  if len(list1) == len(set1):\n",
        "    print('No dduplicates in List')\n",
        "  else:\n",
        "    print('Duplicates in the list')\n",
        "\n",
        "print(is_duplicates([10,22,11]))          "
      ],
      "execution_count": 0,
      "outputs": [
        {
          "output_type": "stream",
          "text": [
            "No dduplicates in List\n",
            "None\n"
          ],
          "name": "stdout"
        }
      ]
    },
    {
      "cell_type": "code",
      "metadata": {
        "id": "u_U-D4oAhzuQ",
        "colab_type": "code",
        "outputId": "81e8ab9c-3264-45cf-fb1d-fef39dd7803a",
        "colab": {
          "base_uri": "https://localhost:8080/",
          "height": 34
        }
      },
      "source": [
        "#Write a Python program to create all possible strings by using 'a', 'e', 'i', 'o', 'u'. Use the characters exactly once.\n",
        "\n",
        "import random\n",
        "\n",
        "string = ['a','e','i','o','u']\n",
        "\n",
        "random.shuffle(string)\n",
        "print(' '.join(string))"
      ],
      "execution_count": 0,
      "outputs": [
        {
          "output_type": "stream",
          "text": [
            "u i o e a\n"
          ],
          "name": "stdout"
        }
      ]
    },
    {
      "cell_type": "code",
      "metadata": {
        "id": "D3uUOkzTLBZE",
        "colab_type": "code",
        "outputId": "c18bcc3c-30bd-412d-f3d3-c29e289913dc",
        "colab": {
          "base_uri": "https://localhost:8080/",
          "height": 170
        }
      },
      "source": [
        "#Write a Python program to remove and print every third number from a list of numbers until the list becomes empty.\n",
        "\n",
        "def remove_nums(int_list):\n",
        "  #list starts with 0 index\n",
        "  position = 3 -1\n",
        "  idx = 0\n",
        "  len_list = (len(int_list))\n",
        "  while len_list>0:\n",
        "    idx = (position+idx)%len_list\n",
        "    print(int_list.pop(idx))\n",
        "    len_list -= 1\n",
        "nums = [10,20,30,40,50,60,70,80,90]\n",
        "remove_nums(nums)\n"
      ],
      "execution_count": 0,
      "outputs": [
        {
          "output_type": "stream",
          "text": [
            "30\n",
            "60\n",
            "90\n",
            "40\n",
            "80\n",
            "50\n",
            "20\n",
            "70\n",
            "10\n"
          ],
          "name": "stdout"
        }
      ]
    },
    {
      "cell_type": "code",
      "metadata": {
        "id": "WvZQBNMmVx-S",
        "colab_type": "code",
        "outputId": "1ad45344-1af3-46e2-c58d-89adb20016f5",
        "colab": {
          "base_uri": "https://localhost:8080/",
          "height": 34
        }
      },
      "source": [
        "#Write a Python program to find unique triplets whose three elements gives the sum of zero from an array of n integers\n",
        "\n",
        "def "
      ],
      "execution_count": 0,
      "outputs": [
        {
          "output_type": "execute_result",
          "data": {
            "text/plain": [
              "2"
            ]
          },
          "metadata": {
            "tags": []
          },
          "execution_count": 20
        }
      ]
    },
    {
      "cell_type": "code",
      "metadata": {
        "id": "LIlJ2mQhYuHu",
        "colab_type": "code",
        "outputId": "f4311c71-fc24-4b4c-87fc-789ee45833d3",
        "colab": {
          "base_uri": "https://localhost:8080/",
          "height": 51
        }
      },
      "source": [
        "# Write a Python program to print a long text, convert the string to a list and print all the words and their frequencies\n",
        "string = [str(x) for x in input().split()]\n",
        "\n",
        "from collections import Counter \n",
        "\n",
        "a = Counter(string)\n",
        "print(a)"
      ],
      "execution_count": 0,
      "outputs": [
        {
          "output_type": "stream",
          "text": [
            "bhanu pratap singh. bhanu\n",
            "Counter({'bhanu': 2, 'pratap': 1, 'singh.': 1})\n"
          ],
          "name": "stdout"
        }
      ]
    },
    {
      "cell_type": "code",
      "metadata": {
        "id": "zUcEjSRoc2bo",
        "colab_type": "code",
        "outputId": "7ac137a3-ab71-4343-d799-01bb3f3d4529",
        "colab": {
          "base_uri": "https://localhost:8080/",
          "height": 34
        }
      },
      "source": [
        "# Write a Python program to count the number of each character of a given text of a text file.\n",
        "\n",
        "text = 'Saksoft'\n",
        "\n",
        "from collections import Counter \n",
        "text1 = text.lower()\n",
        "\n",
        "s = Counter(text1)\n",
        "print(s)"
      ],
      "execution_count": 0,
      "outputs": [
        {
          "output_type": "stream",
          "text": [
            "Counter({'s': 2, 'a': 1, 'k': 1, 'o': 1, 'f': 1, 't': 1})\n"
          ],
          "name": "stdout"
        }
      ]
    },
    {
      "cell_type": "code",
      "metadata": {
        "id": "FMtnflahdxkP",
        "colab_type": "code",
        "outputId": "7334a630-1caf-4bee-e206-f10a48b8958f",
        "colab": {
          "base_uri": "https://localhost:8080/",
          "height": 1000
        }
      },
      "source": [
        "#Write a Python program to get the top stories from import bs4\n",
        "from bs4 import BeautifulSoup as soup\n",
        "from urllib.request import urlopen\n",
        "\n",
        "news_url=\"https://news.google.com/news/rss\"\n",
        "Client=urlopen(news_url)\n",
        "xml_page=Client.read()\n",
        "Client.close()\n",
        "\n",
        "soup_page=soup(xml_page,\"xml\")\n",
        "news_list=soup_page.findAll(\"item\")\n",
        "# Print news title, url and publish date\n",
        "for news in news_list:\n",
        "  print(news.title.text)\n",
        "  print(news.link.text)\n",
        "  print(news.pubDate.text)\n",
        "  print(\"-\"*60)\n"
      ],
      "execution_count": 0,
      "outputs": [
        {
          "output_type": "stream",
          "text": [
            "‘Absolute monster:’ Trump gives Hurricane Dorian weather forecast - The Washington Post\n",
            "https://www.washingtonpost.com/politics/absolute-monster-trump-gives-hurricane-dorian-weather-forecast/2019/08/29/ea0e6592-cab8-11e9-a1fe-ca46e8d573c0_story.html\n",
            "Fri, 30 Aug 2019 00:44:42 GMT\n",
            "------------------------------------------------------------\n",
            "Trump cancels trip to Poland to deal with Hurricane Dorian - NBC News\n",
            "https://www.nbcnews.com/politics/politics-news/trump-cancels-trip-poland-deal-hurricane-dorian-n1048036\n",
            "Thu, 29 Aug 2019 20:29:00 GMT\n",
            "------------------------------------------------------------\n",
            "Hong Kong protest leaders arrested before weekend rallies: Live updates - CNN\n",
            "https://www.cnn.com/asia/live-news/hong-kong-protest-arrests-intl-hnk/index.html\n",
            "Fri, 30 Aug 2019 04:51:00 GMT\n",
            "------------------------------------------------------------\n",
            "DHS Blocks Congressional Staffers from Migrant Detention Centers - Newsweek\n",
            "https://www.newsweek.com/dhs-block-congressional-staffers-troubling-discoveries-migrant-kids-eating-floors-1456849\n",
            "Thu, 29 Aug 2019 18:26:07 GMT\n",
            "------------------------------------------------------------\n",
            "US spies say Trump's G7 performance suggests he's either a 'Russian asset' or a 'useful idiot' for Putin - INSIDER\n",
            "https://www.insider.com/spies-react-trump-g7-summit-russian-asset-2019-8\n",
            "Thu, 29 Aug 2019 20:17:40 GMT\n",
            "------------------------------------------------------------\n",
            "Kay Ivey, Republican Governor Of Alabama, Apologizes For Blackface Skit - NPR\n",
            "https://www.npr.org/2019/08/29/755649657/alabama-gov-kay-ivey-apologizes-for-wearing-blackface-during-college-skit\n",
            "Fri, 30 Aug 2019 00:09:00 GMT\n",
            "------------------------------------------------------------\n",
            "Trump's personal assistant abruptly exits White House - CNN\n",
            "https://www.cnn.com/2019/08/29/politics/trump-personal-assistant-madeleine-westerhout/index.html\n",
            "Fri, 30 Aug 2019 04:14:00 GMT\n",
            "------------------------------------------------------------\n",
            "Officials are investigating 11 suspicious deaths at a VA hospital. Two have been ruled homicides. - The Washington Post\n",
            "https://www.washingtonpost.com/politics/2019/08/30/officials-are-investigating-suspicious-deaths-va-hospital-two-have-been-ruled-homicides/\n",
            "Fri, 30 Aug 2019 01:50:39 GMT\n",
            "------------------------------------------------------------\n",
            "Judge rejects Democrats' bid to speed lawsuit for Trump's tax returns - POLITICO\n",
            "https://www.politico.com/story/2019/08/29/judge-lawsuit-trump-tax-returns-1696419\n",
            "Fri, 30 Aug 2019 00:23:00 GMT\n",
            "------------------------------------------------------------\n",
            "US attorney delivers powerful rebuke to violent white supremacists - ABC News\n",
            "https://abcnews.go.com/Politics/talking-directly-us-attorney-delivers-powerful-rebuke-white/story?id=65275728\n",
            "Thu, 29 Aug 2019 21:02:00 GMT\n",
            "------------------------------------------------------------\n",
            "Let Them Howl, Boris! - RealClearPolitics\n",
            "https://www.realclearpolitics.com/articles/2019/08/30/let_them_howl_boris_141131.html\n",
            "Fri, 30 Aug 2019 02:21:55 GMT\n",
            "------------------------------------------------------------\n",
            "Lebanon's Hezbollah pledges to retaliate against Israel - Al Jazeera English\n",
            "https://www.youtube.com/watch?v=HNUHhcn_970\n",
            "Thu, 29 Aug 2019 17:45:07 GMT\n",
            "------------------------------------------------------------\n",
            "China slams US warship for 'provocative' transit through South China Sea, calling it 'maritime hegemony' - Fox News\n",
            "https://www.foxnews.com/world/china-slams-warship-provocative-transit-south-china-sea\n",
            "Thu, 29 Aug 2019 23:43:15 GMT\n",
            "------------------------------------------------------------\n",
            "What about the animals caught in the Amazon rainforest fires? - BBC News\n",
            "https://www.bbc.com/news/world-latin-america-49497857\n",
            "Thu, 29 Aug 2019 12:41:28 GMT\n",
            "------------------------------------------------------------\n",
            "QOTD: Buying Without Wheel Time? - The Truth About Cars\n",
            "https://www.thetruthaboutcars.com/2019/08/qotd-buying-without-wheel-time/\n",
            "Thu, 29 Aug 2019 12:17:47 GMT\n",
            "------------------------------------------------------------\n",
            "KLAS-TV is back on DirecTV! - KLAS - 8 News Now\n",
            "https://www.8newsnow.com/news/local-news/klas-tv-is-back-on-directv/\n",
            "Fri, 30 Aug 2019 00:06:00 GMT\n",
            "------------------------------------------------------------\n",
            "Leaked Photos Suggest Tesla's China Production May Start Soon - OilPrice.com\n",
            "https://oilprice.com/Latest-Energy-News/World-News/Leaked-Photos-Suggest-Teslas-China-Production-May-Start-Soon.html\n",
            "Wed, 28 Aug 2019 23:00:00 GMT\n",
            "------------------------------------------------------------\n",
            "Ulta Beauty Cuts Sales Forecast as Consumers Cool on Makeup - The Wall Street Journal\n",
            "https://www.wsj.com/articles/ulta-beauty-lowers-outlook-11567113589\n",
            "Thu, 29 Aug 2019 23:54:00 GMT\n",
            "------------------------------------------------------------\n",
            "Pokemon Masters Explainer: How To Evolve And Mega Evolve - GameSpot\n",
            "https://www.gamespot.com/articles/pokemon-masters-explainer-how-to-evolve-and-mega-e/1100-6469486/\n",
            "Fri, 30 Aug 2019 00:21:00 GMT\n",
            "------------------------------------------------------------\n",
            "Oculus CTO John Carmack Outlines the Future of AR, Knocks Magic Leap for Marketing Hype in New Interview - Next Reality\n",
            "https://next.reality.news/news/oculus-cto-john-carmack-outlines-future-ar-knocks-magic-leap-for-marketing-hype-new-interview-0204639/\n",
            "Thu, 29 Aug 2019 17:19:27 GMT\n",
            "------------------------------------------------------------\n",
            "Samsung's Galaxy Fold could relaunch next week, ending months of delays - TechRadar\n",
            "https://www.techradar.com/news/samsungs-galaxy-fold-could-relaunch-next-week-ending-months-of-delays\n",
            "Fri, 30 Aug 2019 01:17:00 GMT\n",
            "------------------------------------------------------------\n",
            "Apple apologizes for listening to Siri recordings, promises reform - Fox Business\n",
            "https://www.foxbusiness.com/technology/apple-apologizes-listening-siri-recordings\n",
            "Wed, 28 Aug 2019 21:11:04 GMT\n",
            "------------------------------------------------------------\n",
            "Brad Pitt’s ‘Ad Astra’ Heading for $20 Million Opening - Variety\n",
            "https://variety.com/2019/film/news/box-office-brad-pitt-ad-astra-rambo-downton-abbey-1203319042/\n",
            "Fri, 30 Aug 2019 01:07:00 GMT\n",
            "------------------------------------------------------------\n",
            "Richard Linklater To Shoot Stephen Sondheim Musical ‘Merrily We Roll Along’ Over 20 Years For Blumhouse - Deadline\n",
            "https://deadline.com/2019/08/richard-linklater-merrily-we-roll-along-20-year-film-production-1202707828/\n",
            "Fri, 30 Aug 2019 00:08:00 GMT\n",
            "------------------------------------------------------------\n",
            "'It' Director Andy Muschietti Confirms 'The Flash' Is His Next Movie - Collider.com\n",
            "http://collider.com/the-flash-movie-update-director-andy-muschietti/\n",
            "Thu, 29 Aug 2019 17:09:05 GMT\n",
            "------------------------------------------------------------\n",
            "JWoww Has the Funniest Reaction to Finalizing Roger Mathews Divorce - E! NEWS\n",
            "https://www.eonline.com/news/1069086/jwoww-has-the-funniest-reaction-to-finalizing-roger-mathews-divorce\n",
            "Thu, 29 Aug 2019 21:07:00 GMT\n",
            "------------------------------------------------------------\n",
            "Sapakoff: Trevor Lawrence gives Clemson foes another thing to worry about, his legs - Charleston Post Courier\n",
            "https://www.postandcourier.com/sports/clemson/sapakoff-trevor-lawrence-gives-clemson-foes-another-thing-to-worry/article_603c5e2e-c760-11e9-b091-7fb51d53ec58.html\n",
            "Fri, 30 Aug 2019 03:45:00 GMT\n",
            "------------------------------------------------------------\n",
            "Taylor Townsend, With Thrilling Charges, Ousts Simona Halep From the U.S. Open - The New York Times\n",
            "https://www.nytimes.com/2019/08/29/sports/tennis/us-open-taylor-townsend.html\n",
            "Fri, 30 Aug 2019 02:10:00 GMT\n",
            "------------------------------------------------------------\n",
            "Ohio State listed as No. 2 team of decade by College Football Hall of Fame - Buckeyes Wire\n",
            "https://buckeyeswire.usatoday.com/2019/08/29/ohio-state-listed-as-no-2-team-of-decade-by-college-football-hall-of-fame/\n",
            "Fri, 30 Aug 2019 01:30:16 GMT\n",
            "------------------------------------------------------------\n",
            "2 of Cougars' finest could've been Utes. Now the seniors hope to end Utah's 8-game winning streak over BYU - KSL.com\n",
            "https://www.ksl.com/article/46627949/2-of-cougars-finest-couldve-been-utes-now-the-seniors-hope-to-end-utahs-8-game-winning-streak-over-byu\n",
            "Thu, 29 Aug 2019 16:32:44 GMT\n",
            "------------------------------------------------------------\n",
            "Nuke Mars? Here Are Some (Hopefully Better) Alternatives - Singularity Hub\n",
            "https://singularityhub.com/2019/08/29/nuke-mars-here-are-some-hopefully-better-alternatives/\n",
            "Thu, 29 Aug 2019 07:00:00 GMT\n",
            "------------------------------------------------------------\n",
            "Kennedy Space Center braces for Hurricane Dorian - Spaceflight Now\n",
            "https://spaceflightnow.com/2019/08/29/kennedy-space-center-braces-for-hurricane-dorian/\n",
            "Thu, 29 Aug 2019 21:30:50 GMT\n",
            "------------------------------------------------------------\n",
            "View of Hurricane Dorian from Space - VOA News\n",
            "https://www.youtube.com/watch?v=qwSZQWGxEJ4\n",
            "Thu, 29 Aug 2019 20:23:52 GMT\n",
            "------------------------------------------------------------\n",
            "Amazon fires produce 220-degree scorched earth, dense smoke in new NASA images - Fox News\n",
            "https://www.foxnews.com/science/amazon-fires-scorched-earth-thick-smoke\n",
            "Thu, 29 Aug 2019 23:44:11 GMT\n",
            "------------------------------------------------------------\n",
            "Milwaukee warns residents to stop vaping ‘immediately’ after 16 hospitalized - New York Daily News\n",
            "https://www.nydailynews.com/life-style/health/ny-e-cigarette-smoking-vaping-milwaukee-hospitalized-lung-disease-20190829-2ullojhnjjhjxfbdekccoyvmje-story.html\n",
            "Thu, 29 Aug 2019 15:14:00 GMT\n",
            "------------------------------------------------------------\n",
            "Human-like brain waves detected in mini brains grown in a dish - CNET\n",
            "https://www.cnet.com/news/human-like-brain-waves-detected-in-mini-brains-grown-in-a-dish/\n",
            "Thu, 29 Aug 2019 21:28:00 GMT\n",
            "------------------------------------------------------------\n",
            "First human cases of West Nile virus reported in Montana - Billings Gazette\n",
            "https://billingsgazette.com/news/local/first-human-cases-of-west-nile-virus-reported-in-montana/article_74ce172d-0bc7-5899-8f31-12e3054d3c9d.html\n",
            "Thu, 29 Aug 2019 23:00:00 GMT\n",
            "------------------------------------------------------------\n",
            "Pinterest continues its crackdown on health misinformation - Fast Company\n",
            "https://www.fastcompany.com/90396831/pinterest-continues-cracking-down-on-anti-vaxxer-misinformation\n",
            "Wed, 28 Aug 2019 21:08:00 GMT\n",
            "------------------------------------------------------------\n"
          ],
          "name": "stdout"
        }
      ]
    },
    {
      "cell_type": "code",
      "metadata": {
        "id": "Mu0tv2onibmH",
        "colab_type": "code",
        "outputId": "82ba142c-e227-4ccc-bf67-0ba0ce63baf1",
        "colab": {
          "base_uri": "https://localhost:8080/",
          "height": 34
        }
      },
      "source": [
        "#Write a Python program to create all possible permutations from a given collection of distinct numbers.\n",
        "\n",
        "num = ['123456']\n",
        "\n",
        "import random \n",
        "\n",
        "z = random.randint(100,120)\n",
        "print(z)"
      ],
      "execution_count": 0,
      "outputs": [
        {
          "output_type": "stream",
          "text": [
            "104\n"
          ],
          "name": "stdout"
        }
      ]
    },
    {
      "cell_type": "code",
      "metadata": {
        "id": "G4oAY90VtcqE",
        "colab_type": "code",
        "outputId": "4001be85-c720-4290-9518-87c39b4735ca",
        "colab": {
          "base_uri": "https://localhost:8080/",
          "height": 51
        }
      },
      "source": [
        "#Write a Python program to get all possible two digit letter combinations from a digit (1 to 9) string. \n",
        "\n",
        "def letter_combinations(digits):\n",
        "    if digits == \"\":\n",
        "        return []\n",
        "    string_maps = {\n",
        "        \"1\": \"abc\",\n",
        "        \"2\": \"def\",\n",
        "        \"3\": \"ghi\",\n",
        "        \"4\": \"jkl\",\n",
        "        \"5\": \"mno\",\n",
        "        \"6\": \"pqrs\",\n",
        "        \"7\": \"tuv\",\n",
        "        \"8\": \"wxy\",\n",
        "        \"9\": \"z\"\n",
        "    }\n",
        "    result = [\"\"]\n",
        "    for num in digits:\n",
        "        temp = []\n",
        "        for an in result:\n",
        "            for char in string_maps[num]:\n",
        "                temp.append(an + char)\n",
        "        result = temp\n",
        "    return result\n",
        "\n",
        "digit_string = \"47\"\n",
        "print(letter_combinations(digit_string))\n",
        "digit_string = \"29\"\n",
        "print(letter_combinations(digit_string))\n"
      ],
      "execution_count": 0,
      "outputs": [
        {
          "output_type": "stream",
          "text": [
            "['jt', 'ju', 'jv', 'kt', 'ku', 'kv', 'lt', 'lu', 'lv']\n",
            "['dz', 'ez', 'fz']\n"
          ],
          "name": "stdout"
        }
      ]
    },
    {
      "cell_type": "code",
      "metadata": {
        "id": "cbDlMs-x0Bf1",
        "colab_type": "code",
        "outputId": "19c9ed0c-088d-4750-c294-e7e0925d9b00",
        "colab": {
          "base_uri": "https://localhost:8080/",
          "height": 34
        }
      },
      "source": [
        "#Write a Python program to count the number of characters (character frequency) in a string.\n",
        "\n",
        "string = 'wwww.google.com'\n",
        "\n",
        "from collections import Counter \n",
        "\n",
        "z = Counter(string)\n",
        "print(z)"
      ],
      "execution_count": 0,
      "outputs": [
        {
          "output_type": "stream",
          "text": [
            "Counter({'w': 4, 'o': 3, '.': 2, 'g': 2, 'l': 1, 'e': 1, 'c': 1, 'm': 1})\n"
          ],
          "name": "stdout"
        }
      ]
    },
    {
      "cell_type": "code",
      "metadata": {
        "id": "A_4O_kWC0Bb9",
        "colab_type": "code",
        "colab": {}
      },
      "source": [
        "# Write a Python program to get a string made of the first 2 and the last 2 chars from a given a string. \n",
        "#If the string length is less than 2, return instead of the empty string\n",
        "string = 'bhanu'\n",
        "\n",
        "def first_last(string):\n",
        "  if len(string) < 2:\n",
        "    print('String Length must be greater than 2')\n",
        "  else:\n",
        "    return string[:2] + string[-2:]\n",
        "  \n",
        "print(first_last(string))"
      ],
      "execution_count": 0,
      "outputs": []
    },
    {
      "cell_type": "code",
      "metadata": {
        "id": "kvs_reej0BX-",
        "colab_type": "code",
        "outputId": "5163ff0b-3a5a-47b6-ff6f-6899dc84d319",
        "colab": {
          "base_uri": "https://localhost:8080/",
          "height": 51
        }
      },
      "source": [
        "#Write a Python program to get a string from a given string where all occurrences of its first char have been changed to '$', except the first char itself\n",
        "\n",
        "# Python program to execute \n",
        "# main directly \n",
        "print(\"Always executed\")\n",
        "\n",
        "if __name__ == \"__main__\": \n",
        "\tprint(\"Executed when invoked directly\")\n",
        "else: \n",
        "\tprint(\"Executed when imported\")\n"
      ],
      "execution_count": 0,
      "outputs": [
        {
          "output_type": "stream",
          "text": [
            "Always executed\n",
            "Executed when invoked directly\n"
          ],
          "name": "stdout"
        }
      ]
    },
    {
      "cell_type": "code",
      "metadata": {
        "id": "j3dimd6Y0BUk",
        "colab_type": "code",
        "outputId": "8515209b-a7cc-4494-e76f-25a3687f54e9",
        "colab": {
          "base_uri": "https://localhost:8080/",
          "height": 34
        }
      },
      "source": [
        "#Write a Python function that takes a list of words and returns the length of the longest one.\n",
        "\n",
        "def longest_word(words_list):\n",
        "    word = []\n",
        "    for n in words_list:\n",
        "        word.append((len(n), n))\n",
        "    word.sort()\n",
        "    return word[-1][1]\n",
        "\n",
        "print(longest_word([\"Bhanu\", \"Pratap\", \"Singh\"]))"
      ],
      "execution_count": 0,
      "outputs": [
        {
          "output_type": "stream",
          "text": [
            "Pratap\n"
          ],
          "name": "stdout"
        }
      ]
    },
    {
      "cell_type": "code",
      "metadata": {
        "id": "nDpob5RMai0s",
        "colab_type": "code",
        "colab": {}
      },
      "source": [
        "#remove nth index character from the empty string.\n",
        "\n",
        "nth_index = int(input('Enter any Number:'))\n"
      ],
      "execution_count": 0,
      "outputs": []
    }
  ]
}