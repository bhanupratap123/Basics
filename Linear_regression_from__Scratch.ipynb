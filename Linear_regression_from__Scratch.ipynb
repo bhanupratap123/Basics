{
  "nbformat": 4,
  "nbformat_minor": 0,
  "metadata": {
    "colab": {
      "name": "Linear_regression_from _Scratch.ipynb",
      "version": "0.3.2",
      "provenance": [],
      "include_colab_link": true
    },
    "kernelspec": {
      "name": "python3",
      "display_name": "Python 3"
    }
  },
  "cells": [
    {
      "cell_type": "markdown",
      "metadata": {
        "id": "view-in-github",
        "colab_type": "text"
      },
      "source": [
        "<a href=\"https://colab.research.google.com/github/bhanupratap123/Basics/blob/master/Linear_regression_from__Scratch.ipynb\" target=\"_parent\"><img src=\"https://colab.research.google.com/assets/colab-badge.svg\" alt=\"Open In Colab\"/></a>"
      ]
    },
    {
      "cell_type": "code",
      "metadata": {
        "id": "An3Xik5BRSqN",
        "colab_type": "code",
        "colab": {
          "base_uri": "https://localhost:8080/",
          "height": 320
        },
        "outputId": "9f0b056d-3f21-4e58-9d23-0f3b1e1d5b6b"
      },
      "source": [
        "from statistics import mean\n",
        "import numpy as np\n",
        "import random\n",
        "import matplotlib.pyplot as plt\n",
        "from matplotlib import style\n",
        "style.use('ggplot')\n",
        "\n",
        "\n",
        "def create_dataset(hm,variance,step=2,correlation=False):\n",
        "    val = 1\n",
        "    ys = []\n",
        "    for i in range(hm):\n",
        "        y = val + random.randrange(-variance,variance)\n",
        "        ys.append(y)\n",
        "        if correlation and correlation == 'pos':\n",
        "            val+=step\n",
        "        elif correlation and correlation == 'neg':\n",
        "            val-=step\n",
        "\n",
        "    xs = [i for i in range(len(ys))]\n",
        "    \n",
        "    return np.array(xs, dtype=np.float64),np.array(ys,dtype=np.float64)\n",
        "def best_fit_slope_and_intercept(xs,ys):\n",
        "    m = (((mean(xs)*mean(ys)) - mean(xs*ys)) /\n",
        "         ((mean(xs)*mean(xs)) - mean(xs*xs)))\n",
        "    \n",
        "    b = mean(ys) - m*mean(xs)\n",
        "\n",
        "    return m, b\n",
        "\n",
        "\n",
        "def coefficient_of_determination(ys_orig,ys_line):\n",
        "    y_mean_line = [mean(ys_orig) for y in ys_orig]\n",
        "\n",
        "    squared_error_regr = sum((ys_line - ys_orig) * (ys_line - ys_orig))\n",
        "    squared_error_y_mean = sum((y_mean_line - ys_orig) * (y_mean_line - ys_orig))\n",
        "\n",
        "    print(squared_error_regr)\n",
        "    print(squared_error_y_mean)\n",
        "\n",
        "    r_squared = 1 - (squared_error_regr/squared_error_y_mean)\n",
        "\n",
        "    return r_squared\n",
        "\n",
        "\n",
        "xs, ys = create_dataset(40,40,2,correlation='pos')\n",
        "m, b = best_fit_slope_and_intercept(xs,ys)\n",
        "regression_line = [(m*x)+b for x in xs]\n",
        "r_squared = coefficient_of_determination(ys,regression_line)\n",
        "print(r_squared)\n",
        "\n",
        "plt.scatter(xs,ys,color='#003F72', label = 'data')\n",
        "plt.plot(xs, regression_line, label = 'regression line')\n",
        "plt.legend(loc=4)\n",
        "plt.show()\n"
      ],
      "execution_count": 2,
      "outputs": [
        {
          "output_type": "stream",
          "text": [
            "17957.262007504687\n",
            "38423.97500000001\n",
            "0.5326547550714188\n"
          ],
          "name": "stdout"
        },
        {
          "output_type": "display_data",
          "data": {
            "image/png": "[encoded data removed]",
            "text/plain": [
              "<Figure size 432x288 with 1 Axes>"
            ]
          },
          "metadata": {
            "tags": []
          }
        }
      ]
    },
    {
      "cell_type": "code",
      "metadata": {
        "id": "hdmPRdz-SSMl",
        "colab_type": "code",
        "colab": {}
      },
      "source": [
        ""
      ],
      "execution_count": 0,
      "outputs": []
    },
    {
      "cell_type": "code",
      "metadata": {
        "id": "coiGh9ytV1os",
        "colab_type": "code",
        "colab": {}
      },
      "source": [
        ""
      ],
      "execution_count": 0,
      "outputs": []
    }
  ]
}