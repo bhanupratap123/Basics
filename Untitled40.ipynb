{
  "nbformat": 4,
  "nbformat_minor": 0,
  "metadata": {
    "colab": {
      "name": "Untitled40.ipynb",
      "version": "0.3.2",
      "provenance": [],
      "include_colab_link": true
    },
    "kernelspec": {
      "name": "python3",
      "display_name": "Python 3"
    }
  },
  "cells": [
    {
      "cell_type": "markdown",
      "metadata": {
        "id": "view-in-github",
        "colab_type": "text"
      },
      "source": [
        "<a href=\"https://colab.research.google.com/github/bhanupratap123/Basics/blob/master/Untitled40.ipynb\" target=\"_parent\"><img src=\"https://colab.research.google.com/assets/colab-badge.svg\" alt=\"Open In Colab\"/></a>"
      ]
    },
    {
      "cell_type": "code",
      "metadata": {
        "id": "AmmEafKX6sN8",
        "colab_type": "code",
        "colab": {
          "base_uri": "https://localhost:8080/",
          "height": 68
        },
        "outputId": "8e8b3779-8899-4450-fa74-5c1427a297ec"
      },
      "source": [
        "#Write a Python program which accepts a sequence of comma-separated numbers from user and generate a list and a tuple with those numbers\n",
        "#Sample data : 3, 5, 7, 23\n",
        "#Output : \n",
        "#List : ['3', ' 5', ' 7', ' 23'] \n",
        "#Tuple : ('3', ' 5', ' 7', ' 23')\n",
        "\n",
        "l = [int(x) for x in input().split(',')]\n",
        "z = list(l)\n",
        "t = tuple(l)\n",
        "print(z)\n",
        "print(t)"
      ],
      "execution_count": 2,
      "outputs": [
        {
          "output_type": "stream",
          "text": [
            "2,3,4,5,6\n",
            "[2, 3, 4, 5, 6]\n",
            "(2, 3, 4, 5, 6)\n"
          ],
          "name": "stdout"
        }
      ]
    },
    {
      "cell_type": "code",
      "metadata": {
        "id": "IBqDWqOz7fFO",
        "colab_type": "code",
        "colab": {
          "base_uri": "https://localhost:8080/",
          "height": 51
        },
        "outputId": "6bc1d1bd-012d-4c4e-a7ff-96a6c034ea19"
      },
      "source": [
        "# Write a Python program to display the first and last colors from the following list.\n",
        "color_list = [\"Red\",\"Green\",\"White\" ,\"Black\"]\n",
        "\n",
        "print(color_list[0])\n",
        "print(color_list[-1])"
      ],
      "execution_count": 6,
      "outputs": [
        {
          "output_type": "stream",
          "text": [
            "Red\n",
            "Black\n"
          ],
          "name": "stdout"
        }
      ]
    },
    {
      "cell_type": "code",
      "metadata": {
        "id": "V7u79amN8NC4",
        "colab_type": "code",
        "colab": {
          "base_uri": "https://localhost:8080/",
          "height": 51
        },
        "outputId": "26afaad3-2b8b-4029-d7d3-97761fa7537a"
      },
      "source": [
        "# Write a Python program that accepts an integer (n) and computes the value of n+nn+nnn. Go to the editor\n",
        "#Sample value of n is 5 \n",
        "#Expected Result : 615\n",
        "\n",
        "n = int(input())\n",
        "n1 = int('%s' %n)\n",
        "n2 = int('%s%s' %(n,n))\n",
        "n3 = int('%s%s%s' %(n,n,n))\n",
        "\n",
        "print(n1+n2+n3)"
      ],
      "execution_count": 11,
      "outputs": [
        {
          "output_type": "stream",
          "text": [
            "5\n",
            "615\n"
          ],
          "name": "stdout"
        }
      ]
    },
    {
      "cell_type": "code",
      "metadata": {
        "id": "Bxw1MJR08zyK",
        "colab_type": "code",
        "colab": {
          "base_uri": "https://localhost:8080/",
          "height": 34
        },
        "outputId": "1f8532de-2ed6-4c91-8c11-5dbc04ee3aaf"
      },
      "source": [
        "#Write a Python program to print the documents (syntax, description etc.) of Python built-in function(s). \n",
        "#Sample function : abs()\n",
        "#Expected Result : \n",
        "#abs(number) -> number\n",
        "#Return the absolute value of the argum\n",
        "\n",
        "print(abs.__doc__)"
      ],
      "execution_count": 12,
      "outputs": [
        {
          "output_type": "stream",
          "text": [
            "Return the absolute value of the argument.\n"
          ],
          "name": "stdout"
        }
      ]
    },
    {
      "cell_type": "code",
      "metadata": {
        "id": "lXsCT-07_EvY",
        "colab_type": "code",
        "colab": {
          "base_uri": "https://localhost:8080/",
          "height": 170
        },
        "outputId": "ccaad8a7-50c9-4c02-afde-33f263895534"
      },
      "source": [
        "#Write a Python program to print the calendar of a given month and year.\n",
        "#Note : Use 'calendar' module. \n",
        "\n",
        "import calendar \n",
        "y = int(input('Enter any date:'))\n",
        "m = int(input('Enter any month'))\n",
        "print(calendar.month(y,m))"
      ],
      "execution_count": 14,
      "outputs": [
        {
          "output_type": "stream",
          "text": [
            "Enter any date:1999\n",
            "Enter any month2\n",
            "   February 1999\n",
            "Mo Tu We Th Fr Sa Su\n",
            " 1  2  3  4  5  6  7\n",
            " 8  9 10 11 12 13 14\n",
            "15 16 17 18 19 20 21\n",
            "22 23 24 25 26 27 28\n",
            "\n"
          ],
          "name": "stdout"
        }
      ]
    },
    {
      "cell_type": "code",
      "metadata": {
        "id": "64Gcsrk0_wa0",
        "colab_type": "code",
        "colab": {
          "base_uri": "https://localhost:8080/",
          "height": 34
        },
        "outputId": "de581a58-3e1f-4058-9aab-748eb0b4c8ad"
      },
      "source": [
        "from datetime import date\n",
        "f_time = date(2014,9,11)\n",
        "t_time = date(2014,7,2)\n",
        "final = f_time - t_time\n",
        "print(final.days)"
      ],
      "execution_count": 21,
      "outputs": [
        {
          "output_type": "stream",
          "text": [
            "71\n"
          ],
          "name": "stdout"
        }
      ]
    },
    {
      "cell_type": "code",
      "metadata": {
        "id": "RA5xSBIVAxuU",
        "colab_type": "code",
        "colab": {
          "base_uri": "https://localhost:8080/",
          "height": 34
        },
        "outputId": "3c45991c-7973-4cb4-d284-7ae1953eaf2b"
      },
      "source": [
        "#. Write a Python program to get the volume of a sphere with radius 6.\n",
        "pi = 3.1415\n",
        "radius = 6\n",
        "area = 4.0 / 3.0 * pi * radius\n",
        "print(round(area,2))"
      ],
      "execution_count": 24,
      "outputs": [
        {
          "output_type": "stream",
          "text": [
            "25.13\n"
          ],
          "name": "stdout"
        }
      ]
    },
    {
      "cell_type": "code",
      "metadata": {
        "id": "ZmOiu3W9IQfb",
        "colab_type": "code",
        "colab": {
          "base_uri": "https://localhost:8080/",
          "height": 51
        },
        "outputId": "5b1df0fb-19fe-4712-e90e-4126ac908014"
      },
      "source": [
        "def difference(n):\n",
        "    if n <= 17:\n",
        "        return 17 - n\n",
        "    else:\n",
        "        return (n - 17) * 2 \n",
        "\n",
        "print(difference(22))\n",
        "print(difference(14))"
      ],
      "execution_count": 32,
      "outputs": [
        {
          "output_type": "stream",
          "text": [
            "10\n",
            "3\n"
          ],
          "name": "stdout"
        }
      ]
    },
    {
      "cell_type": "code",
      "metadata": {
        "id": "OeWpsOjQKNnQ",
        "colab_type": "code",
        "colab": {
          "base_uri": "https://localhost:8080/",
          "height": 34
        },
        "outputId": "5d39e0dc-392a-47e8-e3d8-763afd34af79"
      },
      "source": [
        "#17. Write a Python program to test whether a number is within 100 of 1000 or 2000.\n",
        "\n",
        "\n",
        "if 100 in range(1000,2001):\n",
        "  print(True)\n",
        "else:\n",
        "  print(False)\n",
        "  "
      ],
      "execution_count": 35,
      "outputs": [
        {
          "output_type": "stream",
          "text": [
            "False\n"
          ],
          "name": "stdout"
        }
      ]
    },
    {
      "cell_type": "code",
      "metadata": {
        "id": "6j9pe6UsLsmU",
        "colab_type": "code",
        "colab": {
          "base_uri": "https://localhost:8080/",
          "height": 85
        },
        "outputId": "8648c0de-f21f-4170-f7eb-f89d5369e853"
      },
      "source": [
        " #Write a Python program to calculate the sum of three given numbers, if the values are equal then return three times of their sum. \n",
        "a = int(input())\n",
        "b = int(input())\n",
        "c = int(input())\n",
        "\n",
        "if a == b == c:\n",
        "  print('The sum is:',3*a)\n",
        "else:\n",
        "  print('The Sum is',a+b+c)"
      ],
      "execution_count": 39,
      "outputs": [
        {
          "output_type": "stream",
          "text": [
            "10\n",
            "0\n",
            "10\n",
            "The Sum is 20\n"
          ],
          "name": "stdout"
        }
      ]
    },
    {
      "cell_type": "code",
      "metadata": {
        "id": "g41ZJnc0Mi5f",
        "colab_type": "code",
        "colab": {
          "base_uri": "https://localhost:8080/",
          "height": 51
        },
        "outputId": "8a1bfe1a-e906-4f5e-e3ec-173603f9b80c"
      },
      "source": [
        "#Write a Python program to get a new string from a given string where \"Is\" has been added to the front. \n",
        "#If the given string already begins with \"Is\" then return the string unchanged\n",
        "\n",
        "l = input()\n",
        "if 'Is' in l:\n",
        "  print(l)\n",
        "else:\n",
        "  print('Is',l)"
      ],
      "execution_count": 42,
      "outputs": [
        {
          "output_type": "stream",
          "text": [
            "My name is Bhanu \n",
            "Is My name is Bhanu \n"
          ],
          "name": "stdout"
        }
      ]
    },
    {
      "cell_type": "code",
      "metadata": {
        "id": "xoDPGzumPBpw",
        "colab_type": "code",
        "colab": {
          "base_uri": "https://localhost:8080/",
          "height": 68
        },
        "outputId": "736f847e-10c9-4dce-8694-e6a6704c38e7"
      },
      "source": [
        "string = input()\n",
        "n = int(input())\n",
        "\n",
        "print(string*n)"
      ],
      "execution_count": 43,
      "outputs": [
        {
          "output_type": "stream",
          "text": [
            "Bhanu \n",
            "3\n",
            "Bhanu Bhanu Bhanu \n"
          ],
          "name": "stdout"
        }
      ]
    },
    {
      "cell_type": "code",
      "metadata": {
        "id": "LllVkr6qP4FJ",
        "colab_type": "code",
        "colab": {
          "base_uri": "https://localhost:8080/",
          "height": 51
        },
        "outputId": "c41fb0d2-911d-4109-a52c-ea18d3d891cf"
      },
      "source": [
        "#Write a Python Program to detect a number is odd or even\n",
        "\n",
        "num = int(input())\n",
        "\n",
        "if (num%2 == 0):\n",
        "  print('Number is a even')\n",
        "else:\n",
        "  print('Number is odd')"
      ],
      "execution_count": 45,
      "outputs": [
        {
          "output_type": "stream",
          "text": [
            "23\n",
            "Number is odd\n"
          ],
          "name": "stdout"
        }
      ]
    },
    {
      "cell_type": "code",
      "metadata": {
        "id": "TzQQxZ-vQTnv",
        "colab_type": "code",
        "colab": {
          "base_uri": "https://localhost:8080/",
          "height": 146
        },
        "outputId": "b617f9e1-17fb-4cea-b492-0a3b8f5e466b"
      },
      "source": [
        "#Write a Python program to count the number 4 in a given list\n",
        "\n",
        "list1 = [int(x) for x in input().split(',')]\n",
        "count = 0\n",
        "\n",
        "for i in list1:\n",
        "  if i == 4:\n",
        "    count  = count + 1\n",
        "return count"
      ],
      "execution_count": 57,
      "outputs": [
        {
          "output_type": "stream",
          "text": [
            "4\n"
          ],
          "name": "stdout"
        },
        {
          "output_type": "error",
          "ename": "SyntaxError",
          "evalue": "ignored",
          "traceback": [
            "\u001b[0;36m  File \u001b[0;32m\"<ipython-input-57-28007faff9bf>\"\u001b[0;36m, line \u001b[0;32m8\u001b[0m\n\u001b[0;31m    return count\u001b[0m\n\u001b[0m                ^\u001b[0m\n\u001b[0;31mSyntaxError\u001b[0m\u001b[0;31m:\u001b[0m 'return' outside function\n"
          ]
        }
      ]
    },
    {
      "cell_type": "code",
      "metadata": {
        "id": "ZscQW_7qRdhZ",
        "colab_type": "code",
        "colab": {
          "base_uri": "https://localhost:8080/",
          "height": 51
        },
        "outputId": "df326e17-e774-4b63-e811-e49a0ec81bfb"
      },
      "source": [
        "#Write a Python program to check whether a specified value is contained in a group of values.\n",
        "#Test Data : \n",
        "#3 -> [1, 5, 8, 3] : True\n",
        "#-1 -> [1, 5, 8, 3] : False\n",
        "\n",
        "n = int(input())\n",
        "list = [1, 5, 8, 3]\n",
        "if n in list:\n",
        "  print(n,'->',list,': True')\n",
        "else:\n",
        "  print(n,'->',list,': False')\n"
      ],
      "execution_count": 59,
      "outputs": [
        {
          "output_type": "stream",
          "text": [
            "2\n",
            "2 -> [1, 5, 8, 3] : False\n"
          ],
          "name": "stdout"
        }
      ]
    },
    {
      "cell_type": "code",
      "metadata": {
        "id": "_22_axL4UkjM",
        "colab_type": "code",
        "colab": {
          "base_uri": "https://localhost:8080/",
          "height": 85
        },
        "outputId": "e5531d4a-ae12-4c24-c901-684d8dd33fad"
      },
      "source": [
        "#26. Write a Python program to create a histogram from a given list of integers\n",
        "list = [2,5,1,6]\n",
        "for i in list:\n",
        "  print('@'*i)"
      ],
      "execution_count": 60,
      "outputs": [
        {
          "output_type": "stream",
          "text": [
            "@@\n",
            "@@@@@\n",
            "@\n",
            "@@@@@@\n"
          ],
          "name": "stdout"
        }
      ]
    },
    {
      "cell_type": "code",
      "metadata": {
        "id": "4ALePqO2V8am",
        "colab_type": "code",
        "colab": {
          "base_uri": "https://localhost:8080/",
          "height": 34
        },
        "outputId": "04fdfa86-9e4d-4fbf-9cb5-a2f4043224e6"
      },
      "source": [
        "# Write a Python program to concatenate all elements in a list into a string and return it.\n",
        "\n",
        "def concate_list(list):\n",
        "  result = ''\n",
        "  for element in list:\n",
        "    result += str(element)\n",
        "  return result\n",
        "\n",
        "print(concate_list([1,2,34,3]))"
      ],
      "execution_count": 65,
      "outputs": [
        {
          "output_type": "stream",
          "text": [
            "12343\n"
          ],
          "name": "stdout"
        }
      ]
    },
    {
      "cell_type": "code",
      "metadata": {
        "id": "Fp_ZYpJGW6NA",
        "colab_type": "code",
        "colab": {
          "base_uri": "https://localhost:8080/",
          "height": 374
        },
        "outputId": "cbf5991b-d9d6-4852-c5e2-bd68defb9a3a"
      },
      "source": [
        "#Write a Python program to print all even numbers from a given numbers list in the same order and stop the printing \n",
        "#if any numbers that come after 237 in the sequence.\n",
        "\n",
        "numbers = [    \n",
        "    386, 462, 47, 418, 907, 344, 236, 375, 823, 566, 597, 978, 328, 615, 953, 345, \n",
        "    399, 162, 758, 219, 918, 237, 412, 566, 826, 248, 866, 950, 626, 949, 687, 217, \n",
        "    815, 67, 104, 58, 512, 24, 892, 894, 767, 553, 81, 379, 843, 831, 445, 742, 717, \n",
        "    958,743, 527\n",
        "    ]\n",
        "for n in numbers:\n",
        "  if (n%2 == 0) & (n > 237):\n",
        "    print(n)"
      ],
      "execution_count": 68,
      "outputs": [
        {
          "output_type": "stream",
          "text": [
            "386\n",
            "462\n",
            "418\n",
            "344\n",
            "566\n",
            "978\n",
            "328\n",
            "758\n",
            "918\n",
            "412\n",
            "566\n",
            "826\n",
            "248\n",
            "866\n",
            "950\n",
            "626\n",
            "512\n",
            "892\n",
            "894\n",
            "742\n",
            "958\n"
          ],
          "name": "stdout"
        }
      ]
    },
    {
      "cell_type": "code",
      "metadata": {
        "id": "SJElPHv6YX-v",
        "colab_type": "code",
        "colab": {
          "base_uri": "https://localhost:8080/",
          "height": 34
        },
        "outputId": "02ffd5f4-1acb-4289-c2d9-709f3118efe5"
      },
      "source": [
        "#Write a Python program to print out a set containing all the colors from color_list_1 which are not present in color_list_2. Go to the editor\n",
        "#Test Data : \n",
        "color_list_1 = set([\"White\", \"Black\", \"Red\"]) \n",
        "color_list_2 = set([\"Red\", \"Green\"])\n",
        "#Expected Output : \n",
        "#{'Black', 'White'}\n",
        "\n",
        "      \n",
        "print(color_list_1.difference(color_list_2))\n"
      ],
      "execution_count": 74,
      "outputs": [
        {
          "output_type": "stream",
          "text": [
            "{'White', 'Black'}\n"
          ],
          "name": "stdout"
        }
      ]
    },
    {
      "cell_type": "code",
      "metadata": {
        "id": "4kbuxuR6aXuM",
        "colab_type": "code",
        "colab": {
          "base_uri": "https://localhost:8080/",
          "height": 68
        },
        "outputId": "0baa1815-18e0-442e-e870-ef0666d74fb5"
      },
      "source": [
        "#Write a Python program that will accept the base and height of a triangle and compute the area.\n",
        "\n",
        "height = int(input())\n",
        "base  = int(input())\n",
        "\n",
        "area = 0.5 * base * height\n",
        "print(area)\n",
        "\n"
      ],
      "execution_count": 75,
      "outputs": [
        {
          "output_type": "stream",
          "text": [
            "10\n",
            "5\n",
            "25.0\n"
          ],
          "name": "stdout"
        }
      ]
    },
    {
      "cell_type": "code",
      "metadata": {
        "id": "kbRWa1YjbikV",
        "colab_type": "code",
        "colab": {}
      },
      "source": [
        "#Write a Python program to compute the greatest common divisor (GCD) of two positive integers.\n",
        "\n",
        "def GCD(X,Y):\n",
        "  gcd = 1\n",
        "  \n",
        "  if n1 % n2 == 0:\n",
        "    return n2\n",
        "  \n",
        "  for k in range(int(Y/2,0,-1)):\n",
        "    if (x%k == 0) & (Y%k == 0):\n",
        "      gcd = k\n",
        "  return gcd\n",
        "  \n",
        "  \n",
        "  "
      ],
      "execution_count": 0,
      "outputs": []
    },
    {
      "cell_type": "code",
      "metadata": {
        "id": "Cm6V-xOPdyr9",
        "colab_type": "code",
        "colab": {}
      },
      "source": [
        "# Write a Python program to sum of three given integers. However, if two values are equal sum will be zero\n",
        " \n",
        "def sum(x,y,z):\n",
        "  if x == y or y == z or x == z:\n",
        "    sum = 0\n",
        "  else:\n",
        "    sum = x + y + z\n",
        "  return sum\n",
        "    "
      ],
      "execution_count": 0,
      "outputs": []
    },
    {
      "cell_type": "code",
      "metadata": {
        "id": "qqX50mFld3i7",
        "colab_type": "code",
        "colab": {
          "base_uri": "https://localhost:8080/",
          "height": 34
        },
        "outputId": "3c806950-cb7c-41af-a39d-39f63583db26"
      },
      "source": [
        "#Write a Python program to sum of two given integers. However, if the sum is between 15 to 20 it will return 20. \n",
        "\n",
        "def sum(a,b):\n",
        "  sum = a + b \n",
        "  if sum in range(15,21):\n",
        "    return 20 \n",
        "  else:\n",
        "    return sum\n",
        "print(sum(10,6))"
      ],
      "execution_count": 93,
      "outputs": [
        {
          "output_type": "stream",
          "text": [
            "20\n"
          ],
          "name": "stdout"
        }
      ]
    },
    {
      "cell_type": "code",
      "metadata": {
        "id": "Rmbh7DmbgOR-",
        "colab_type": "code",
        "colab": {
          "base_uri": "https://localhost:8080/",
          "height": 34
        },
        "outputId": "419f5d96-893c-4831-d971-255963da4af4"
      },
      "source": [
        "#Write a Python program that will return true if the two given integer values are equal or their sum or difference is 5.\n",
        "\n",
        "def sum(a,b):\n",
        "  sum = a + b\n",
        "  diff = a - b\n",
        "  if a == b or sum == 5 or diff == 5:\n",
        "    return True\n",
        "  else:\n",
        "    return False\n",
        "sum(2,3)"
      ],
      "execution_count": 100,
      "outputs": [
        {
          "output_type": "execute_result",
          "data": {
            "text/plain": [
              "True"
            ]
          },
          "metadata": {
            "tags": []
          },
          "execution_count": 100
        }
      ]
    },
    {
      "cell_type": "code",
      "metadata": {
        "id": "GeRFkaNOj5ix",
        "colab_type": "code",
        "colab": {
          "base_uri": "https://localhost:8080/",
          "height": 34
        },
        "outputId": "86040e6b-2244-4b4f-ae09-e68713b3be96"
      },
      "source": [
        "# Write a Python program to add two objects if both objects are an integer type\n",
        "\n",
        "def add_numbers(a, b):\n",
        "    if not (isinstance(a, int) and isinstance(b, int)):\n",
        "         raise TypeError(\"Inputs must be integers\")\n",
        "    return a + b\n",
        "\n",
        "print(add_numbers(10, 20))\n"
      ],
      "execution_count": 104,
      "outputs": [
        {
          "output_type": "stream",
          "text": [
            "30\n"
          ],
          "name": "stdout"
        }
      ]
    },
    {
      "cell_type": "code",
      "metadata": {
        "id": "42QbBRu4kpgd",
        "colab_type": "code",
        "colab": {
          "base_uri": "https://localhost:8080/",
          "height": 68
        },
        "outputId": "324cacda-21b7-4eaf-a021-8100569f5e93"
      },
      "source": [
        "#Write a Python program to display your details like name, age, address in three different lines\n",
        "\n",
        "def personal_detail():\n",
        "  Name,Age = 'Bhanu Pratap Singh',19\n",
        "  address= 'Madiwala,Bengaluru'\n",
        "  print(' Name: {0}\\n Age: {1}\\n address:{2}'.format(Name,Age,address))\n",
        "personal_detail()"
      ],
      "execution_count": 109,
      "outputs": [
        {
          "output_type": "stream",
          "text": [
            " Name: Bhanu Pratap Singh\n",
            " Age: 19\n",
            " address:Madiwala,Bengaluru\n"
          ],
          "name": "stdout"
        }
      ]
    },
    {
      "cell_type": "code",
      "metadata": {
        "id": "weCkpPzpmGpm",
        "colab_type": "code",
        "colab": {}
      },
      "source": [
        "#Write a Python program to solve (x + y) * (x + y). Go to the editor\n",
        "#Test Data : x = 4, y = 3\n",
        "#Expected Output : (4 + 3) ^ 2) = 49\n",
        "\n",
        "def square(a,b):\n",
        "  formulla = (a + b) **2 \n",
        "  return formulla"
      ],
      "execution_count": 0,
      "outputs": []
    },
    {
      "cell_type": "code",
      "metadata": {
        "id": "jmDLeY6Dnc5M",
        "colab_type": "code",
        "colab": {
          "base_uri": "https://localhost:8080/",
          "height": 34
        },
        "outputId": "a4f8236a-91ab-43e0-b20e-d0de0cf142ea"
      },
      "source": [
        "#to check weather the file exist or not\n",
        "import os.path\n",
        "open('abc.txt', 'w')\n",
        "print(os.path.isfile('abc.txt'))"
      ],
      "execution_count": 112,
      "outputs": [
        {
          "output_type": "stream",
          "text": [
            "True\n"
          ],
          "name": "stdout"
        }
      ]
    },
    {
      "cell_type": "code",
      "metadata": {
        "id": "USgr2C0Inf6i",
        "colab_type": "code",
        "colab": {
          "base_uri": "https://localhost:8080/",
          "height": 34
        },
        "outputId": "349e480c-645b-4907-adf6-b63634b51131"
      },
      "source": [
        "#. Write a Python program to determine if a Python shell is executing in 32bit or 64bit mode on \n",
        "import struct\n",
        "print(struct.calcsize(\"P\") * 8)"
      ],
      "execution_count": 113,
      "outputs": [
        {
          "output_type": "stream",
          "text": [
            "64\n"
          ],
          "name": "stdout"
        }
      ]
    },
    {
      "cell_type": "code",
      "metadata": {
        "id": "lN7NoUwvn4xP",
        "colab_type": "code",
        "colab": {
          "base_uri": "https://localhost:8080/",
          "height": 68
        },
        "outputId": "8fcf9c5d-09f4-4839-801d-84a2aa617dde"
      },
      "source": [
        "#Write a Python program to get OS name, platform and release information\n",
        "import platform\n",
        "import os\n",
        "print(os.name)\n",
        "print(platform.system())\n",
        "print(platform.release())"
      ],
      "execution_count": 114,
      "outputs": [
        {
          "output_type": "stream",
          "text": [
            "posix\n",
            "Linux\n",
            "4.14.79+\n"
          ],
          "name": "stdout"
        }
      ]
    },
    {
      "cell_type": "code",
      "metadata": {
        "id": "eYYYYUL9oDxm",
        "colab_type": "code",
        "colab": {
          "base_uri": "https://localhost:8080/",
          "height": 34
        },
        "outputId": "61c0ccf5-ddee-4ca5-970b-986f0322ddbf"
      },
      "source": [
        "#44. Write a Python program to locate Python site-packages.\n",
        "import site; \n",
        "print(site.getsitepackages())"
      ],
      "execution_count": 115,
      "outputs": [
        {
          "output_type": "stream",
          "text": [
            "['/usr/local/lib/python3.6/dist-packages', '/usr/lib/python3/dist-packages', '/usr/lib/python3.6/dist-packages']\n"
          ],
          "name": "stdout"
        }
      ]
    },
    {
      "cell_type": "code",
      "metadata": {
        "id": "20C6l2TGoSyM",
        "colab_type": "code",
        "colab": {
          "base_uri": "https://localhost:8080/",
          "height": 34
        },
        "outputId": "59ef3cdc-7e46-4662-ba9c-648d2b3b8318"
      },
      "source": [
        "#5. Write a python program to call an external command in Python.\n",
        "from subprocess import call\n",
        "call([\"ls\", \"-l\"])"
      ],
      "execution_count": 116,
      "outputs": [
        {
          "output_type": "execute_result",
          "data": {
            "text/plain": [
              "0"
            ]
          },
          "metadata": {
            "tags": []
          },
          "execution_count": 116
        }
      ]
    },
    {
      "cell_type": "code",
      "metadata": {
        "id": "IHVR4mbAoZpw",
        "colab_type": "code",
        "colab": {
          "base_uri": "https://localhost:8080/",
          "height": 180
        },
        "outputId": "126e7948-7b62-4ec3-f6bb-9a658cc75ed4"
      },
      "source": [
        " #Write a python program to get the path and name of the file that is currently executing\n",
        "import os\n",
        "print(\"Current File Name : \",os.path.realpath(__file__))"
      ],
      "execution_count": 118,
      "outputs": [
        {
          "output_type": "error",
          "ename": "NameError",
          "evalue": "ignored",
          "traceback": [
            "\u001b[0;31m---------------------------------------------------------------------------\u001b[0m",
            "\u001b[0;31mNameError\u001b[0m                                 Traceback (most recent call last)",
            "\u001b[0;32m<ipython-input-118-76e7fb529489>\u001b[0m in \u001b[0;36m<module>\u001b[0;34m()\u001b[0m\n\u001b[1;32m      1\u001b[0m \u001b[0;32mimport\u001b[0m \u001b[0mos\u001b[0m\u001b[0;34m\u001b[0m\u001b[0;34m\u001b[0m\u001b[0m\n\u001b[0;32m----> 2\u001b[0;31m \u001b[0mprint\u001b[0m\u001b[0;34m(\u001b[0m\u001b[0;34m\"Current File Name : \"\u001b[0m\u001b[0;34m,\u001b[0m\u001b[0mos\u001b[0m\u001b[0;34m.\u001b[0m\u001b[0mpath\u001b[0m\u001b[0;34m.\u001b[0m\u001b[0mrealpath\u001b[0m\u001b[0;34m(\u001b[0m\u001b[0m__file__\u001b[0m\u001b[0;34m)\u001b[0m\u001b[0;34m)\u001b[0m\u001b[0;34m\u001b[0m\u001b[0;34m\u001b[0m\u001b[0m\n\u001b[0m",
            "\u001b[0;31mNameError\u001b[0m: name '__file__' is not defined"
          ]
        }
      ]
    },
    {
      "cell_type": "code",
      "metadata": {
        "id": "a1uG9nVJooIj",
        "colab_type": "code",
        "colab": {}
      },
      "source": [
        ""
      ],
      "execution_count": 0,
      "outputs": []
    }
  ]
}